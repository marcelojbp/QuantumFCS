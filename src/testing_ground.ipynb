{
 "cells": [
  {
   "cell_type": "code",
   "execution_count": 3,
   "metadata": {},
   "outputs": [],
   "source": [
    "using QuantumOptics"
   ]
  },
  {
   "cell_type": "code",
   "execution_count": 4,
   "metadata": {},
   "outputs": [],
   "source": [
    "using LinearAlgebra"
   ]
  },
  {
   "cell_type": "code",
   "execution_count": 2,
   "metadata": {},
   "outputs": [
    {
     "data": {
      "text/plain": [
       "1"
      ]
     },
     "metadata": {},
     "output_type": "display_data"
    }
   ],
   "source": [
    "1"
   ]
  },
  {
   "cell_type": "code",
   "execution_count": 8,
   "metadata": {},
   "outputs": [
    {
     "data": {
      "text/plain": [
       "4-element Vector{Float64}:\n",
       " -0.09297450741739782\n",
       "  0.3382379860223766\n",
       "  0.28870526785024114\n",
       "  0.8058447780589868"
      ]
     },
     "metadata": {},
     "output_type": "display_data"
    }
   ],
   "source": [
    "## Example of LinearSolve\n",
    "A = rand(4, 4)\n",
    "b = rand(4)\n",
    "sol = A\\b"
   ]
  },
  {
   "cell_type": "code",
   "execution_count": 14,
   "metadata": {},
   "outputs": [
    {
     "data": {
      "text/plain": [
       "1-element Vector{Operator{FockBasis{Int64}, FockBasis{Int64}, SparseArrays.SparseMatrixCSC{ComplexF64, Int64}}}:\n",
       " Operator(dim=3x3)\n",
       "  basis: Fock(cutoff=2)sparse([1, 2], [2, 3], ComplexF64[1.0 + 0.0im, 1.4142135623730951 + 0.0im], 3, 3)"
      ]
     },
     "metadata": {},
     "output_type": "display_data"
    }
   ],
   "source": [
    "## Example Quantum Sytem to try the function out \n",
    "basis = FockBasis(2);\n",
    "# creation and annihilation operators of the cavity\n",
    "a = destroy(basis);\n",
    "at = create(basis);\n",
    "H = at*a + at*at*a*a;\n",
    "# Jump operators and their rates to simulate coupling to a bath \n",
    "J = [a];\n",
    "#Jt = dagger(a)"
   ]
  },
  {
   "cell_type": "code",
   "execution_count": 25,
   "metadata": {},
   "outputs": [],
   "source": [
    "α = coherentstate(basis,1+im);\n",
    "ρα = α ⊗ dagger(α);\n",
    "ραvec = vec(ρα.data);"
   ]
  },
  {
   "cell_type": "code",
   "execution_count": 26,
   "metadata": {},
   "outputs": [],
   "source": [
    "L = Matrix(liouvillian(H, J;).data);\n",
    "unitm = diagm(ones(size(L)[1]));"
   ]
  },
  {
   "cell_type": "code",
   "execution_count": 27,
   "metadata": {},
   "outputs": [],
   "source": [
    "Mat = cat(L,unitm;dims=1);"
   ]
  },
  {
   "cell_type": "code",
   "execution_count": 28,
   "metadata": {},
   "outputs": [],
   "source": [
    "ρss = vec(Matrix(steadystate.master(H,J)[2][1].data));"
   ]
  },
  {
   "cell_type": "code",
   "execution_count": 29,
   "metadata": {},
   "outputs": [],
   "source": [
    "rhs = append!(ραvec - ρss*sum(ραvec),zeros(size(L)[1]));\n"
   ]
  },
  {
   "cell_type": "code",
   "execution_count": 24,
   "metadata": {},
   "outputs": [
    {
     "data": {
      "text/plain": [
       "9-element Vector{ComplexF64}:\n",
       "                   0.0 - 0.0im\n",
       "  -0.09098651177429772 + 0.0761082142514566im\n",
       "  -0.04253177622684928 - 0.010632944056712322im\n",
       "  -0.09098651177429777 - 0.07610821425145657im\n",
       "   -0.5734440985830829 + 6.944925103571634e-17im\n",
       "  -0.05907690693665959 + 0.02832454442168606im\n",
       "  -0.04253177622684929 + 0.01063294405671232im\n",
       " -0.059076906936659575 - 0.0283245444216861im\n",
       "   -0.1274320219073517 + 1.543316689682585e-17im"
      ]
     },
     "metadata": {},
     "output_type": "display_data"
    }
   ],
   "source": [
    "Mat\\rhs"
   ]
  },
  {
   "cell_type": "code",
   "execution_count": 37,
   "metadata": {},
   "outputs": [
    {
     "data": {
      "text/plain": [
       "drazin_apply"
      ]
     },
     "metadata": {},
     "output_type": "display_data"
    }
   ],
   "source": [
    "\"\"\" \n",
    "\n",
    "        drazin_apply() \n",
    "Calculates the vector resulting from the Drazin inverse being applied to another vector. \n",
    "\n",
    "# Arguments \n",
    "* `H`: Arbitrary operator specifying the Hamiltonian.\n",
    "* `J`: Vector containing all jump operators which can be of any arbitrary\n",
    "        operator type.\n",
    "* `ρss ` : steady state of the system as a density matrix\n",
    "* `α` : input state as a density matrix\n",
    "\n",
    "\"\"\"\n",
    "function drazin_apply(H, J, ρα, ρss = steadystate.master(H,J)[2][1])\n",
    "        ## Constructing the matrix \n",
    "\n",
    "        # constructing the liouvillian from the Hamiltonian and the jump operators \n",
    "        L = Matrix(liouvillian(H, J;).data)\n",
    "\n",
    "        # constructing unitmatrix to append to liouvillian\n",
    "        unitm = diagm(ones(size(L)[1]))\n",
    "\n",
    "        # constructing the final matrix consiting of the liouvillian and the unit matrix \n",
    "        Mat = cat(L,unitm;dims=1)\n",
    "\n",
    "        ## Constructing the right hand side \n",
    "\n",
    "        # vectorizing the steady state\n",
    "        ρssvec = vec(Matrix(ρss.data))\n",
    "\n",
    "        # vectorizing the state that the drazin inverse is being applied to  \n",
    "        αvec = vec(ρα.data)\n",
    "\n",
    "        # constructing the right hand side of the linear system \n",
    "        rhs = append!(ραvec - ρssvec*sum(ραvec),zeros(size(L)[1]))\n",
    "\n",
    "        ## returning the result \n",
    "        \n",
    "        return Mat\\rhs\n",
    "end "
   ]
  },
  {
   "cell_type": "code",
   "execution_count": 39,
   "metadata": {},
   "outputs": [
    {
     "data": {
      "text/plain": [
       "9-element Vector{ComplexF64}:\n",
       "                   0.0 - 0.0im\n",
       "  -0.09098651177429772 + 0.0761082142514566im\n",
       "  -0.04253177622684928 - 0.010632944056712322im\n",
       "  -0.09098651177429777 - 0.07610821425145657im\n",
       "   -0.5734440985830829 + 6.944925103571634e-17im\n",
       "  -0.05907690693665959 + 0.02832454442168606im\n",
       "  -0.04253177622684929 + 0.01063294405671232im\n",
       " -0.059076906936659575 - 0.0283245444216861im\n",
       "   -0.1274320219073517 + 1.543316689682585e-17im"
      ]
     },
     "metadata": {},
     "output_type": "display_data"
    }
   ],
   "source": [
    "drazin_apply(H,J,α ⊗ dagger(α))"
   ]
  }
 ],
 "metadata": {
  "kernelspec": {
   "display_name": "Julia 1.9.3",
   "language": "julia",
   "name": "julia-1.9"
  },
  "language_info": {
   "file_extension": ".jl",
   "mimetype": "application/julia",
   "name": "julia",
   "version": "1.9.3"
  }
 },
 "nbformat": 4,
 "nbformat_minor": 2
}
