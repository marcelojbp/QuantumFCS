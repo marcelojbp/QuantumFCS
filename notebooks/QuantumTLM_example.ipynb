{
 "cells": [
  {
   "cell_type": "code",
   "execution_count": 15,
   "metadata": {},
   "outputs": [],
   "source": [
    "using LinearAlgebra\n",
    "using BenchmarkTools\n",
    "using LaTeXStrings\n",
    "using QuantumOptics\n",
    "using CairoMakie\n",
    "using BenchmarkTools\n",
    "using QuantumFCS"
   ]
  },
  {
   "cell_type": "code",
   "execution_count": 19,
   "metadata": {},
   "outputs": [],
   "source": [
    "N = 100\n",
    "b_tls = NLevelBasis(3)\n",
    "b_fock = FockBasis(N)\n",
    "σ = [transition(b_tls, i, j) for i=1:3, j =1:3];\n",
    "a = destroy(b_fock)\n",
    "ad = create(b_fock)\n",
    "Id_cav = one(b_fock)\n",
    "Id_tls = one(b_tls)\n",
    ";"
   ]
  },
  {
   "cell_type": "code",
   "execution_count": 20,
   "metadata": {},
   "outputs": [],
   "source": [
    "g = 1.0 \n",
    "f = 0.1\n",
    "Δ = 0.0\n",
    "γh = 1.0\n",
    "γc = 1.0\n",
    "κ = 1.0\n",
    "nh = 1.0\n",
    "nc = 0.1\n",
    "ncav = 0.0\n",
    "\n",
    "\n",
    "H = g*ad⊗σ[1,2] + f*a⊗one(b_tls)\n",
    "H += dagger(H)\n",
    "\n",
    "rates = [γh*√(nh+1), γc*√(nc+1), κ*√(ncav+1), γh*√nh, γc*√nc, κ*√ncav]\n",
    "J = [Id_cav⊗σ[1,3], Id_cav⊗σ[2,3], a⊗Id_tls]\n",
    "for i=1:3\n",
    "    append!(J,[dagger(J[i])])\n",
    "end\n",
    "\n",
    "# J = @. rates*J\n",
    "\n",
    "\n",
    "ρss = steadystate.iterative(H, J; rates=rates)\n",
    "# ρss = (ρss+dagger(ρss))/2\n",
    "# tout, ρss = steadystate.master(H, J; rates=rates, Jdagger=dagger.(J));\n",
    ";"
   ]
  },
  {
   "cell_type": "code",
   "execution_count": 18,
   "metadata": {},
   "outputs": [
    {
     "name": "stdout",
     "output_type": "stream",
     "text": [
      "  0.076345 seconds (1.28 k allocations: 278.143 MiB, 0.00% compilation time)\n"
     ]
    },
    {
     "data": {
      "text/plain": [
       "2-element Vector{Float64}:\n",
       " 0.014919888329598608\n",
       " 0.15496976511514832"
      ]
     },
     "metadata": {},
     "output_type": "display_data"
    }
   ],
   "source": [
    "mJ=[J[2], dagger(J[2])]\n",
    "@time fcscumulants_recursive(H, J, mJ, 2, ρss)"
   ]
  },
  {
   "cell_type": "code",
   "execution_count": 21,
   "metadata": {},
   "outputs": [
    {
     "name": "stdout",
     "output_type": "stream",
     "text": [
      "  5.816497 seconds (1.31 k allocations: 8.455 GiB, 12.96% gc time, 0.00% compilation time)\n"
     ]
    },
    {
     "data": {
      "text/plain": [
       "2-element Vector{Float64}:\n",
       " 0.014919886082694128\n",
       " 0.1549697554668058"
      ]
     },
     "metadata": {},
     "output_type": "display_data"
    }
   ],
   "source": [
    "mJ=[J[2], dagger(J[2])]\n",
    "@time fcscumulants_recursive(H, J, mJ, 2, ρss)"
   ]
  },
  {
   "cell_type": "code",
   "execution_count": 8,
   "metadata": {},
   "outputs": [
    {
     "data": {
      "text/plain": [
       "SparseSuperOpType{Tuple{CompositeBasis{Vector{Int64}, Tuple{FockBasis{Int64}, NLevelBasis{Int64}}}, CompositeBasis{Vector{Int64}, Tuple{FockBasis{Int64}, NLevelBasis{Int64}}}}, Tuple{CompositeBasis{Vector{Int64}, Tuple{FockBasis{Int64}, NLevelBasis{Int64}}}, CompositeBasis{Vector{Int64}, Tuple{FockBasis{Int64}, NLevelBasis{Int64}}}}, SparseArrays.SparseMatrixCSC{ComplexF64, Int64}}(([Fock(cutoff=10) ⊗ NLevel(N=3)], [Fock(cutoff=10) ⊗ NLevel(N=3)]), ([Fock(cutoff=10) ⊗ NLevel(N=3)], [Fock(cutoff=10) ⊗ NLevel(N=3)]), sparse([1, 2, 34, 749, 1, 2, 3, 12, 35, 750  …  1055, 1087, 1088, 1089, 341, 715, 1055, 1056, 1088, 1089], [1, 1, 1, 1, 2, 2, 2, 2, 2, 2  …  1088, 1088, 1088, 1088, 1089, 1089, 1089, 1089, 1089, 1089], ComplexF64[-1.0 + 0.0im, 0.0 - 1.0im, 0.0 + 1.0im, 1.0 + 0.0im, 0.0 - 1.0im, -1.5 + 0.0im, 0.0 - 1.4142135623730951im, 0.0 - 1.0im, 0.0 + 1.0im, 1.0 + 0.0im  …  0.0 + 3.1622776601683795im, 0.0 - 3.0im, -11.963022410543246 + 0.0im, 0.0 - 3.1622776601683795im, 1.4142135623730951 + 0.0im, 1.0488088481701516 + 0.0im, 10.000000000000002 + 0.0im, 0.0 + 3.1622776601683795im, 0.0 - 3.1622776601683795im, -12.46302241054325 + 0.0im], 1089, 1089))"
      ]
     },
     "metadata": {},
     "output_type": "display_data"
    }
   ],
   "source": [
    "L=steadystate.liouvillian(H, J; rates=rates, Jdagger=dagger.(J))"
   ]
  },
  {
   "cell_type": "code",
   "execution_count": 40,
   "metadata": {},
   "outputs": [
    {
     "data": {
      "text/plain": [
       "Operator(dim=33x33)\n",
       "  basis: [Fock(cutoff=10) ⊗ NLevel(N=3)]\n",
       "    0.0305305-2.6e-16im         6.1e-16+0.0209321im   …   1.0e-17+1.0e-17im\n",
       "      6.4e-16-0.0209321im     0.0416564-0.0im             1.0e-17-0.0im\n",
       "   0.00446386-7.3e-16im         9.4e-16-0.0390006im          -0.0-0.0im\n",
       "     -4.8e-16-0.0255414im    -0.0165147-1.36e-15im            0.0+0.0im\n",
       "   -0.0322347-3.0e-17im       -1.38e-15-0.00920365im         -0.0-0.0im\n",
       "     -3.7e-16+0.0266596im     -0.024732+7.5e-16im     …  -1.0e-17-0.0im\n",
       "    0.0161225+5.2e-16im         1.3e-16+0.0272066im      -1.0e-17+1.0e-17im\n",
       "      5.1e-16-0.00665674im    0.0211879+2.4e-16im             0.0+0.0im\n",
       " -0.000816622-4.1e-16im         2.6e-16-0.0127571im      -1.0e-17+1.0e-17im\n",
       "     -1.5e-16-0.00167496im  -0.00571423-1.9e-16im            -0.0-0.0im\n",
       "             ⋮                                        ⋱  \n",
       "     -1.0e-17+0.0im                -0.0-1.0e-17im         3.0e-17-2.0e-17im\n",
       "         -0.0-0.0im            -1.0e-17-1.0e-17im     …      -0.0-3.0e-17im\n",
       "      1.0e-17-0.0im             1.0e-17-1.0e-17im        -1.0e-17-1.0e-17im\n",
       "          0.0+0.0im             1.0e-17-1.0e-17im            -0.0+0.0im\n",
       "      1.0e-17+0.0im                 0.0-1.0e-17im        -1.0e-17-1.0e-17im\n",
       "          0.0+0.0im                -0.0-1.0e-17im             0.0-0.0im\n",
       "      1.0e-17+0.0im                -0.0-1.0e-17im     …  -1.0e-17-1.0e-17im\n",
       "      1.0e-17+0.0im            -1.0e-17+0.0im                 0.0-0.0im\n",
       "      1.0e-17+1.0e-17im        -1.0e-17+0.0im                -0.0-0.0im"
      ]
     },
     "metadata": {},
     "output_type": "display_data"
    }
   ],
   "source": [
    "ρss = steadystate.eigenvector(L)"
   ]
  },
  {
   "cell_type": "code",
   "execution_count": 51,
   "metadata": {},
   "outputs": [
    {
     "data": {
      "text/plain": [
       "true"
      ]
     },
     "metadata": {},
     "output_type": "display_data"
    }
   ],
   "source": [
    "isapprox(ρss,dagger(ρss))"
   ]
  }
 ],
 "metadata": {
  "kernelspec": {
   "display_name": "Julia 1.10.1",
   "language": "julia",
   "name": "julia-1.10"
  },
  "language_info": {
   "file_extension": ".jl",
   "mimetype": "application/julia",
   "name": "julia",
   "version": "1.10.1"
  }
 },
 "nbformat": 4,
 "nbformat_minor": 2
}
