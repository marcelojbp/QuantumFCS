{
 "cells": [
  {
   "cell_type": "code",
   "execution_count": 21,
   "metadata": {},
   "outputs": [],
   "source": [
    "using QuantumOptics\n",
    "using BenchmarkTools\n",
    "using LinearAlgebra"
   ]
  },
  {
   "cell_type": "code",
   "execution_count": 79,
   "metadata": {},
   "outputs": [
    {
     "data": {
      "text/plain": [
       "drazin"
      ]
     },
     "metadata": {},
     "output_type": "display_data"
    }
   ],
   "source": [
    "\"\"\"\n",
    "    drazin(H, J; rho_ss = steadystate.eigenvector(H, J))\n",
    "    \n",
    "Calculate the Drazin inverse of a Liouvillian defined by the Hamiltonian H and jump operators J.\n",
    " \n",
    "# Arguments\n",
    "* `H`: Arbitrary operator specifying the Hamiltonian.\n",
    "* `J`: Vector containing all jump operators which can be of any arbitrary\n",
    "         operator type.\n",
    "* `rho_ss`: Density matrix specifying the steady-state of the Liouvillian. By default, it is found through steadystate.eigenvector. \n",
    "         For large matrices the steady-state should be provided, as the best steady-state solver could vary.\n",
    " \"\"\"    \n",
    "    function drazin(H::AbstractOperator, J; ρss = steadystate.eigenvector(H, J))\n",
    "        d = length(H)\n",
    "        # Vectorizing the steady-state and the identity\n",
    "        vId = reshape(Matrix(identityoperator(H).data), d)'\n",
    "        vss = reshape(Matrix(ρss.data), d)\n",
    "        # vectorized liouvillian\n",
    "        vL = Matrix(liouvillian(H, J).data)\n",
    "        # Liouville space's identity\n",
    "        IdL = Matrix{ComplexF64}(I, d, d)\n",
    "        # We introduce Q, which projects any vector in the complement of the kernel o L\n",
    "        Q = IdL - vss*vId\n",
    "        # The Drazin inverse is computed by projecting the Moore-Penrose pseudo-inverse, computed using pinv.\n",
    "        LD = Q*pinv(vL)*Q\n",
    "        return LD\n",
    "    end"
   ]
  },
  {
   "cell_type": "code",
   "execution_count": 104,
   "metadata": {},
   "outputs": [
    {
     "data": {
      "text/plain": [
       "drazin_apply"
      ]
     },
     "metadata": {},
     "output_type": "display_data"
    }
   ],
   "source": [
    "\"\"\" \n",
    "\n",
    "    drazin_apply() \n",
    "Calculates the vector resulting from the Drazin inverse being applied to another vector. \n",
    "\n",
    "# Arguments \n",
    "* `H`: Arbitrary operator specifying the Hamiltonian.\n",
    "* `J`: Vector containing all jump operators which can be of any arbitrary\n",
    "    operator type.\n",
    "* `ρss ` : steady state of the system as a density matrix\n",
    "* `α` : input state as a density matrix\n",
    "\n",
    "\"\"\"\n",
    "function drazin_apply(H, J, αvec, ρss = steadystate.master(H,J)[2][1])\n",
    "    ## Constructing the matrix \n",
    "\n",
    "  # constructing the liouvillian from the Hamiltonian and the jump operators \n",
    "  L = Matrix(liouvillian(H, J;).data)\n",
    "  \n",
    "  # constructing unitmatrix to append to liouvillian\n",
    "  unitrow = vec(identityoperator(basis).data)'\n",
    "  \n",
    "  # constructing the left hand side consiting of the liouvillian and the unit matrix row \n",
    "  lhs = cat(L, unitrow; dims = 1)\n",
    "\n",
    "  ## Constructing the right hand side \n",
    "\n",
    "  # vectorizing the steady state\n",
    "  ρssvec = vec(Matrix(ρss.data))\n",
    "  \n",
    "  # constructing the right hand side of the linear system \n",
    "  rhs = append!(αvec - ρssvec .* (unitrow * αvec), 0)\n",
    "\n",
    "  ## returning the result \n",
    "  \n",
    "  return lhs\\rhs\n",
    "\n",
    "end "
   ]
  },
  {
   "cell_type": "code",
   "execution_count": 89,
   "metadata": {},
   "outputs": [
    {
     "data": {
      "text/plain": [
       "1-element Vector{Operator{FockBasis{Int64}, FockBasis{Int64}, SparseArrays.SparseMatrixCSC{ComplexF64, Int64}}}:\n",
       " Operator(dim=11x11)\n",
       "  basis: Fock(cutoff=10)sparse([1, 2, 3, 4, 5, 6, 7, 8, 9, 10], [2, 3, 4, 5, 6, 7, 8, 9, 10, 11], ComplexF64[1.0 + 0.0im, 1.4142135623730951 + 0.0im, 1.7320508075688772 + 0.0im, 2.0 + 0.0im, 2.23606797749979 + 0.0im, 2.449489742783178 + 0.0im, 2.6457513110645907 + 0.0im, 2.8284271247461903 + 0.0im, 3.0 + 0.0im, 3.1622776601683795 + 0.0im], 11, 11)"
      ]
     },
     "metadata": {},
     "output_type": "display_data"
    }
   ],
   "source": [
    "## Example Quantum Sytem to try the function out \n",
    "basis = FockBasis(10);\n",
    "# creation and annihilation operators of the cavity\n",
    "a = destroy(basis);\n",
    "at = create(basis);\n",
    "H = at*a + 2*at*at*a*a;\n",
    "# Jump operators and their rates to simulate coupling to a bath \n",
    "J = [a];\n",
    "#Jt = dagger(a)"
   ]
  },
  {
   "cell_type": "code",
   "execution_count": 90,
   "metadata": {},
   "outputs": [],
   "source": [
    "ρα = coherentstate(basis,1) ⊗ dagger(coherentstate(basis,1)); \n",
    "αvec = vec(ρα.data);\n",
    "ρss = steadystate.master(H,J)[2][1];\n"
   ]
  },
  {
   "cell_type": "code",
   "execution_count": 105,
   "metadata": {},
   "outputs": [
    {
     "data": {
      "text/plain": [
       "121-element Vector{ComplexF64}:\n",
       " -1.4432899320127035e-15 + 3.7484682552881483e-16im\n",
       "   5.967448757360216e-16 - 1.6653345369377348e-16im\n",
       "   2.246466901389965e-16 + 5.551115123125783e-17im\n",
       " -2.2551405187698492e-17 + 4.336808689942018e-17im\n",
       "  -8.058332646998512e-17 - 3.903127820947816e-17im\n",
       "  -6.076953176781252e-17 - 1.4094628242311558e-17im\n",
       " -3.3771203607028955e-18 - 2.656295322589486e-18im\n",
       " -2.7810209240726816e-18 + 4.119968255444917e-18im\n",
       "  3.6569059310928315e-18 - 8.453388813597917e-19im\n",
       "  1.4386589911318274e-18 - 1.1443415117405598e-18im\n",
       "                         ⋮\n",
       "   5.376574719921174e-19 - 1.1722935989999517e-18im\n",
       "   5.565999080195817e-19 - 8.819730563285402e-19im\n",
       " -2.4652612688428143e-18 + 1.7926922933045233e-18im\n",
       "   5.419563296355554e-19 + 1.356258567231745e-18im\n",
       "  3.0583381875147594e-18 + 1.2417569181197047e-18im\n",
       " -1.5682252535596835e-18 + 6.204185466392729e-19im\n",
       "  3.2255852151813967e-18 + 2.6604990544624803e-18im\n",
       "  3.2850237256624665e-20 - 2.7576547261292837e-20im\n",
       "  1.2907144298542682e-18 - 2.5496618355879047e-18im"
      ]
     },
     "metadata": {},
     "output_type": "display_data"
    }
   ],
   "source": [
    "diff = drazin_apply(H, J, αvec, ρss) - drazin(H, J; ρss) * αvec"
   ]
  },
  {
   "cell_type": "code",
   "execution_count": 106,
   "metadata": {},
   "outputs": [
    {
     "data": {
      "text/plain": [
       "1.785880842508949e-15"
      ]
     },
     "metadata": {},
     "output_type": "display_data"
    }
   ],
   "source": [
    "norm(diff)"
   ]
  }
 ],
 "metadata": {
  "kernelspec": {
   "display_name": "Julia 1.9.3",
   "language": "julia",
   "name": "julia-1.9"
  },
  "language_info": {
   "file_extension": ".jl",
   "mimetype": "application/julia",
   "name": "julia",
   "version": "1.9.3"
  }
 },
 "nbformat": 4,
 "nbformat_minor": 2
}
