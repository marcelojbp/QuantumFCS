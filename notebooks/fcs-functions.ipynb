{
 "cells": [
  {
   "cell_type": "code",
   "execution_count": 23,
   "metadata": {},
   "outputs": [],
   "source": [
    "using LinearAlgebra\n",
    "using BenchmarkTools\n",
    "using LaTeXStrings\n",
    "using QuantumOptics\n",
    "using Plots\n",
    "using BenchmarkTools"
   ]
  },
  {
   "cell_type": "markdown",
   "metadata": {},
   "source": [
    "As a general scenario, we consider a Lindblad master equation denoted by,\n",
    "$$ \n",
    "\\mathcal{L}\\rho =\\frac{d \\rho}{dt} = -i[H, \\rho] + \\sum_{k=1}^r L_k \\rho L_k^\\dagger -\\frac{1}{2}\\left\\{L^\\dagger_k L_k, \\rho \\right\\}.\n",
    "$$\n",
    "From the above equation we introduce $p\\leq r$ counting fields with weights $\\nu_k$. This defines the generalized master equation (GME),\n",
    "$$\n",
    "\\mathcal{L}_\\chi \\rho_\\chi = \\left(\\mathcal{L} + \\Delta \\mathcal{L}_\\chi \\right)\\rho_\\chi,\n",
    "$$\n",
    "where,\n",
    "$$\n",
    " \\Delta \\mathcal{L}_\\chi = \\sum_{k=1}^p(1-e^{i\\nu_k \\chi}) L_k \\rho L_k^\\dagger .\n",
    "$$\n",
    "Whatever method we use to compute the FCS, we start by vectorizating the GME,\n",
    "$$\n",
    "\\mathcal{L}_\\chi\\rho_\\chi \\to   \\mathcal{L}_\\chi|\\rho_\\chi \\rangle \\rangle \n",
    "$$"
   ]
  },
  {
   "cell_type": "markdown",
   "metadata": {},
   "source": [
    "Upon vectorization, the current fluctuations can be computed through\n",
    "\n",
    "$$\n",
    "\\langle \\langle I^n \\rangle \\rangle = \\sum_{m=1}^n \\binom{n}{m} \\langle \\langle 1| \\mathcal{L}^{(m)}| \\rho^{(n-m)}\\rangle \\rangle,\n",
    "$$\n",
    "where,\n",
    "$$\n",
    "| \\rho^n\\rangle \\rangle = \\mathcal{L}^+\\sum_{m=1}^n \\binom{n}{m}\\left(  \\langle \\langle I^m \\rangle \\rangle - \\mathcal{L}^{(m)}\\right)|\\rho^{(n-m)} \\rangle \\rangle\n",
    "$$\n",
    "and $|\\rho^0\\rangle \\rangle := | \\rho_{\\rm ss}\\rangle \\rangle$.\n",
    "\n",
    "In Julia vectors start at index 1. Therefore, it is more convenient to work with $| \\sigma^{n+1} \\rangle \\rangle = | \\rho^n\\rangle \\rangle$, which entail $| \\sigma^{1} \\rangle \\rangle = | \\rho^0\\rangle \\rangle$. We thus rewrite the above recursive formulas in terms of it"
   ]
  },
  {
   "cell_type": "markdown",
   "metadata": {},
   "source": [
    "\n",
    "$$\n",
    "\\boxed{\n",
    "\\langle \\langle I^n \\rangle \\rangle = \\sum_{m=1}^n \\binom{n}{m} \\langle \\langle 1| \\mathcal{L}^{(m)}| \\sigma^{(n+1-m)}\\rangle \\rangle,\n",
    "}\n",
    "$$\n",
    "$$\n",
    "\\boxed{\n",
    "| \\sigma^n\\rangle \\rangle = \\mathcal{L}^+\\sum_{m=1}^{n-1} \\binom{n-1}{m}\\left( \\langle \\langle I^m \\rangle \\rangle - \\mathcal{L}^{(m)}\\right)|\\sigma^{(n-m)} \\rangle \\rangle\n",
    "}\n",
    "$$\n"
   ]
  },
  {
   "cell_type": "code",
   "execution_count": 37,
   "metadata": {},
   "outputs": [
    {
     "data": {
      "text/plain": [
       "drazin_apply"
      ]
     },
     "metadata": {},
     "output_type": "display_data"
    }
   ],
   "source": [
    "function cumulants_recursive(H::AbstractOperator, J, mJ, nC::Int64, rho_ss, apply = :false ; nu = vcat(fill(+1, Int(length(mJ)/2)),fill(-1, Int(length(mJ)/2))))\n",
    "    l = length(rho_ss)\n",
    "    IdL = Matrix{ComplexF64}(I, l, l)\n",
    "    vId = vec(Matrix{ComplexF64}(I, size(rho_ss.data)))'\n",
    "    Ln = [m_jumps(mJ; n = k, nu = nu) for k=1:nC]\n",
    "    vrho0 = vec(rho_ss.data)\n",
    "    vI = Vector{Float64}(undef, nC)\n",
    "    vI[1] = real(vId*Ln[1]*vrho0)\n",
    "    if nC > 1\n",
    "        vrho = [Vector{ComplexF64}(undef, l) for j=1:nC]\n",
    "        vrho[1] = vrho0\n",
    "        if apply == :false\n",
    "            LD = drazin(H, J, rho_ss)\n",
    "            for n = 2:nC\n",
    "                valpha = sum(binomial(n-1, m)*(vI[m]*IdL*vrho[n-m] - Ln[m]*vrho[n-m]) for m=1:n-1)\n",
    "                vrho[n] = LD*valpha\n",
    "                vI[n] = real(vId*(sum(binomial(n, m)*Ln[m]*vrho[n+1-m] for m=1:n)))\n",
    "             end\n",
    "        else\n",
    "            for n = 2:nC\n",
    "                valpha = sum(binomial(n-1, m)*(vI[m]*IdL*vrho[n-m] - Ln[m]*vrho[n-m]) for m=1:n-1)\n",
    "                vrho[n] = drazin_apply(H, J, valpha, rho_ss)\n",
    "                vI[n] = real(vId*(sum(binomial(n, m)*Ln[m]*vrho[n+1-m] for m=1:n)))\n",
    "             end \n",
    "        end\n",
    "    end\n",
    "    return vI\n",
    "end\n",
    "\n",
    "\n",
    "function drazin(H::AbstractOperator, J, rho_ss)\n",
    "    d = length(H)\n",
    "    vId = reshape(Matrix(identityoperator(H).data), d)'\n",
    "    vss = reshape(Matrix(rho_ss.data), d)\n",
    "    L = liouvillian(H, J)\n",
    "    vL = Matrix(L.data)\n",
    "    IdL = Matrix{ComplexF64}(I, d, d)\n",
    "    Q = IdL - vss*vId\n",
    "    LD = Q*pinv(vL)*Q\n",
    "    return LD\n",
    "end\n",
    "\n",
    "function m_jumps(mJ; n=1, nu = vcat(fill(1, Int(length(mJ)/2)),fill(-1, Int(length(mJ)/2))))\n",
    "    return sum(nu[k]^n*kron(conj(mJ[k].data), mJ[k].data) for k = 1:length(mJ))\n",
    "end\n",
    "\n",
    "\"\"\" \n",
    "\n",
    "    drazin_apply() \n",
    "Calculates the vector resulting from the Drazin inverse being applied to another vector. \n",
    "\n",
    "# Arguments \n",
    "* `H`: Arbitrary operator specifying the Hamiltonian.\n",
    "* `J`: Vector containing all jump operators which can be of any arbitrary\n",
    "    operator type.\n",
    "* `ρss ` : steady state of the system as a density matrix\n",
    "* `α` : input state as a density matrix\n",
    "\n",
    "\"\"\"\n",
    "function drazin_apply(H, J, ρα, ρss = steadystate.master(H,J)[2][1])\n",
    "    ## Constructing the matrix \n",
    "\n",
    "    # constructing the liouvillian from the Hamiltonian and the jump operators \n",
    "    L = Matrix(liouvillian(H, J;).data)\n",
    "\n",
    "    # constructing unitmatrix to append to liouvillian\n",
    "    unitm = diagm(ones(size(L)[1]))\n",
    "\n",
    "    # constructing the final matrix consiting of the liouvillian and the unit matrix \n",
    "    Mat = cat(L,unitm;dims=1)\n",
    "\n",
    "    ## Constructing the right hand side \n",
    "\n",
    "    # vectorizing the steady state\n",
    "    ρssvec = vec(Matrix(ρss.data))\n",
    "\n",
    "    # vectorizing the state that the drazin inverse is being applied to  \n",
    "    # αvec = vec(ρα.data)\n",
    "    ραvec = ρα\n",
    "    # constructing the right hand side of the linear system \n",
    "    rhs = append!(ραvec - ρssvec*sum(ραvec),zeros(size(L)[1]))\n",
    "\n",
    "    ## returning the result \n",
    "    return Mat\\rhs\n",
    "end \n"
   ]
  },
  {
   "cell_type": "markdown",
   "metadata": {},
   "source": [
    "# Test for the Drazin inverse and Drazin apply\n",
    "\n",
    "From melt.nb documentation, we have that a master equation of the form\n",
    "$$ \\mathcal{L} \\rho = -i[\\sigma_z,\\rho]   + \\gamma_m D[\\sigma\\rho + \\gamma_p D[\\sigma^\\dagger]\\rho.$$\n",
    "\n",
    "The above Liouvillian has a corresponding Drazin inverse of the form,\n",
    "$$\\mathcal{L}^+ = \\begin{pmatrix}\n",
    "-\\frac{\\gamma_m}{(\\gamma_m + \\gamma_p)^2} & 0 & 0 & \\frac{\\gamma_p}{(\\gamma_m + \\gamma_p)^2}\\\\\n",
    "0 & - \\frac{2}{-4i + \\gamma_m + \\gamma_p} & 0 & 0\\\\\n",
    "0 & 0 & - \\frac{2}{+4i + \\gamma_m + \\gamma_p} & 0\\\\\n",
    "\\frac{\\gamma_m}{(\\gamma_m + \\gamma_p)^2} & 0 & 0 & -\\frac{\\gamma_p}{(\\gamma_m + \\gamma_p)^2}\n",
    "    \\end{pmatrix}\n",
    "$$\n",
    "\n",
    "We now implement this analytical Drazin inverse and use it to test our function to compute the Drazin inverse."
   ]
  },
  {
   "cell_type": "code",
   "execution_count": 17,
   "metadata": {},
   "outputs": [
    {
     "data": {
      "text/plain": [
       "4×4 Matrix{ComplexF64}:\n",
       " -0.5+0.0im        0.0+0.0im             0.0+0.0im        0.5+0.0im\n",
       "  0.0+0.0im  -0.117647-0.470588im        0.0+0.0im        0.0+0.0im\n",
       "  0.0+0.0im        0.0+0.0im       -0.117647+0.470588im   0.0+0.0im\n",
       "  0.5+0.0im        0.0+0.0im             0.0+0.0im       -0.5+0.0im"
      ]
     },
     "metadata": {},
     "output_type": "display_data"
    },
    {
     "data": {
      "text/plain": [
       "4×4 Matrix{ComplexF64}:\n",
       " -0.5-0.0im      0.0+0.0im         0.0+0.0im      0.5-0.0im\n",
       " -0.0+0.0im  -0.1176-0.4706im      0.0+0.0im     -0.0+0.0im\n",
       "  0.0+0.0im      0.0+0.0im     -0.1176+0.4706im   0.0+0.0im\n",
       "  0.5+0.0im      0.0+0.0im         0.0+0.0im     -0.5+0.0im"
      ]
     },
     "metadata": {},
     "output_type": "display_data"
    },
    {
     "name": "stdout",
     "output_type": "stream",
     "text": [
      "Are these the same?\n"
     ]
    },
    {
     "data": {
      "text/plain": [
       "true"
      ]
     },
     "metadata": {},
     "output_type": "display_data"
    }
   ],
   "source": [
    "qubit_drazin(γm, γp) = [-γm/(γm+γp)^2 0 0 γp/(γm+γp)^2; 0 -2/(-4im+γm+ γp) 0 0; 0 0 -2/(4im + γm + γp) 0; γm/(γm+ γp)^2 0 0 -γp/(γm + γp)^2]\n",
    "\n",
    "b_s = SpinBasis(1//2)\n",
    "σz = sigmaz(b_s)\n",
    "σm = sigmam(b_s)\n",
    "σp = sigmap(b_s)\n",
    "γ = 1.0\n",
    "γm = 0.5\n",
    "γp = 0.5\n",
    "LD_test = qubit_drazin(γm, γp)\n",
    "J = [√γm*σm, √γp*σp]\n",
    "L = liouvillian(σz, J)\n",
    "ρss = steadystate.eigenvector(L)\n",
    "display(LD_test)\n",
    "LD = drazin(σz, J, ρss)\n",
    "display(round.(LD, digits=4))\n",
    "println(\"Are these the same?\")\n",
    "isapprox(LD,LD_test, atol=1e-10)"
   ]
  },
  {
   "cell_type": "code",
   "execution_count": 33,
   "metadata": {},
   "outputs": [
    {
     "data": {
      "text/plain": [
       "4-element SparseArrays.SparseVector{ComplexF64, Int64} with 1 stored entry:\n",
       "  [3]  =  -0.1176+0.4706im"
      ]
     },
     "metadata": {},
     "output_type": "display_data"
    },
    {
     "data": {
      "text/plain": [
       "4-element Vector{ComplexF64}:\n",
       "    -0.0 - 0.0im\n",
       "    -0.0 + 0.0im\n",
       " -0.0952 + 0.381im\n",
       "     0.0 + 0.0im"
      ]
     },
     "metadata": {},
     "output_type": "display_data"
    }
   ],
   "source": [
    "vz = reshape(σz.data, length(σz))\n",
    "vp = reshape(σp.data, length(σz))\n",
    "vm = reshape(σm.data, length(σz))\n",
    "v = vp\n",
    "display(round.(LD*v, digits = 4))\n",
    "\n",
    "round.(drazin_apply(σz, J, v, ρss), digits =4)"
   ]
  },
  {
   "cell_type": "code",
   "execution_count": 54,
   "metadata": {},
   "outputs": [
    {
     "data": {
      "text/plain": [
       "4×4 Matrix{ComplexF64}:\n",
       "  1.11022e-16+0.0im                  0.0+0.0im  …  -1.11022e-16+0.0im\n",
       " -4.15577e-18-1.67536e-17im  5.55112e-17+0.0im     -4.15577e-18-1.67536e-17im\n",
       " -8.75728e-18-2.76577e-17im          0.0+0.0im     -8.75728e-18-2.76577e-17im\n",
       " -1.11022e-16+0.0im                  0.0+0.0im      1.11022e-16+0.0im"
      ]
     },
     "metadata": {},
     "output_type": "display_data"
    }
   ],
   "source": [
    "qubit_drazin(γm, γp) - LD"
   ]
  },
  {
   "cell_type": "markdown",
   "metadata": {},
   "source": [
    "# Two-level system "
   ]
  },
  {
   "cell_type": "code",
   "execution_count": 52,
   "metadata": {},
   "outputs": [
    {
     "name": "stdout",
     "output_type": "stream",
     "text": [
      "-0.5000000000000002\n",
      "0.25000000000000006\n"
     ]
    }
   ],
   "source": [
    "b_s = SpinBasis(1//2)\n",
    "σz = sigmaz(b_s)\n",
    "σm = sigmam(b_s)\n",
    "σp = sigmap(b_s)\n",
    "γ = 1.0\n",
    "nhf = 1.\n",
    "ncf = 0.\n",
    "ω = 1.0\n",
    "H =  ω*σp*σm\n",
    "J = √γ*[√(1-nhf)*σm, √(1-ncf)*σm, √nhf*σp, √ncf*σp]\n",
    "# J = [√(γ*(1-nhf))*σm, √(γ*nhf)*σp]\n",
    "mJ = [J[1], J[3]]\n",
    "ρss = steadystate.eigenvector(H, J);\n",
    "\n",
    "vss = vec(ρss.data)\n",
    "vId = vec(one(b_s).data)'\n",
    "\n",
    "# Let's make it recursive now!\n",
    "# We always start by setting up the Drazin inverse, the vectorize jumpps:\n",
    "Jop = m_jumps(mJ)\n",
    "LD = drazin(H, J, ρss)\n",
    "vρ0 = vss\n",
    "# Then we compute the 1st vector and the 1st cumulant\n",
    "vρ1 = Jop*vρ0\n",
    "I1 =real(vId*vρ1)\n",
    "# Then the 2nd vector and cumulant\n",
    "I2 = real(vId*(m_jumps(mJ; n=2)*vρ0 - 2*m_jumps(mJ)*LD*vρ1))\n",
    "\n",
    "\n",
    "println(I1)\n",
    "println(I2)"
   ]
  },
  {
   "cell_type": "code",
   "execution_count": 51,
   "metadata": {},
   "outputs": [
    {
     "name": "stdout",
     "output_type": "stream",
     "text": [
      "|_________Drazin________|\n",
      "[-0.5000000000000001, 0.25000000000000006]\n",
      "|_______Drazin_apply_____|\n",
      "[-0.5000000000000001, 0.29999999999999993]\n"
     ]
    }
   ],
   "source": [
    "K = cumulants_recursive(H, J, mJ, 2, ρss)\n",
    "K_apply = cumulants_recursive(H, J, mJ, 2, ρss, :true)\n",
    "println(\"|_________Drazin________|\")\n",
    "println(K)\n",
    "println(\"|_______Drazin_apply_____|\")\n",
    "println(K_apply)"
   ]
  },
  {
   "cell_type": "code",
   "execution_count": 23,
   "metadata": {},
   "outputs": [
    {
     "data": {
      "image/png": "[encoded data removed]",
      "image/svg+xml": [
       "<?xml version=\"1.0\" encoding=\"utf-8\"?>\n",
       "<svg xmlns=\"http://www.w3.org/2000/svg\" xmlns:xlink=\"http://www.w3.org/1999/xlink\" width=\"600\" height=\"400\" viewBox=\"0 0 2400 1600\">\n",
       "<defs>\n",
       "  <clipPath id=\"clip680\">\n",
       "    <rect x=\"0\" y=\"0\" width=\"2400\" height=\"1600\"/>\n",
       "  </clipPath>\n",
       "</defs>\n",
       "<path clip-path=\"url(#clip680)\" d=\"M0 1600 L2400 1600 L2400 0 L0 0  Z\" fill=\"#ffffff\" fill-rule=\"evenodd\" fill-opacity=\"1\"/>\n",
       "<defs>\n",
       "  <clipPath id=\"clip681\">\n",
       "    <rect x=\"480\" y=\"0\" width=\"1681\" height=\"1600\"/>\n",
       "  </clipPath>\n",
       "</defs>\n",
       "<path clip-path=\"url(#clip680)\" d=\"M140.696 1486.45 L2352.76 1486.45 L2352.76 47.2441 L140.696 47.2441  Z\" fill=\"#ffffff\" fill-rule=\"evenodd\" fill-opacity=\"1\"/>\n",
       "<defs>\n",
       "  <clipPath id=\"clip682\">\n",
       "    <rect x=\"140\" y=\"47\" width=\"2213\" height=\"1440\"/>\n",
       "  </clipPath>\n",
       "</defs>\n",
       "<polyline clip-path=\"url(#clip682)\" style=\"stroke:#000000; stroke-linecap:round; stroke-linejoin:round; stroke-width:2; stroke-opacity:0.1; fill:none\" points=\"203.301,1486.45 203.301,47.2441 \"/>\n",
       "<polyline clip-path=\"url(#clip682)\" style=\"stroke:#000000; stroke-linecap:round; stroke-linejoin:round; stroke-width:2; stroke-opacity:0.1; fill:none\" points=\"620.671,1486.45 620.671,47.2441 \"/>\n",
       "<polyline clip-path=\"url(#clip682)\" style=\"stroke:#000000; stroke-linecap:round; stroke-linejoin:round; stroke-width:2; stroke-opacity:0.1; fill:none\" points=\"1038.04,1486.45 1038.04,47.2441 \"/>\n",
       "<polyline clip-path=\"url(#clip682)\" style=\"stroke:#000000; stroke-linecap:round; stroke-linejoin:round; stroke-width:2; stroke-opacity:0.1; fill:none\" points=\"1455.41,1486.45 1455.41,47.2441 \"/>\n",
       "<polyline clip-path=\"url(#clip682)\" style=\"stroke:#000000; stroke-linecap:round; stroke-linejoin:round; stroke-width:2; stroke-opacity:0.1; fill:none\" points=\"1872.78,1486.45 1872.78,47.2441 \"/>\n",
       "<polyline clip-path=\"url(#clip682)\" style=\"stroke:#000000; stroke-linecap:round; stroke-linejoin:round; stroke-width:2; stroke-opacity:0.1; fill:none\" points=\"2290.15,1486.45 2290.15,47.2441 \"/>\n",
       "<polyline clip-path=\"url(#clip680)\" style=\"stroke:#000000; stroke-linecap:round; stroke-linejoin:round; stroke-width:4; stroke-opacity:1; fill:none\" points=\"140.696,1486.45 2352.76,1486.45 \"/>\n",
       "<polyline clip-path=\"url(#clip680)\" style=\"stroke:#000000; stroke-linecap:round; stroke-linejoin:round; stroke-width:4; stroke-opacity:1; fill:none\" points=\"203.301,1486.45 203.301,1467.55 \"/>\n",
       "<polyline clip-path=\"url(#clip680)\" style=\"stroke:#000000; stroke-linecap:round; stroke-linejoin:round; stroke-width:4; stroke-opacity:1; fill:none\" points=\"620.671,1486.45 620.671,1467.55 \"/>\n",
       "<polyline clip-path=\"url(#clip680)\" style=\"stroke:#000000; stroke-linecap:round; stroke-linejoin:round; stroke-width:4; stroke-opacity:1; fill:none\" points=\"1038.04,1486.45 1038.04,1467.55 \"/>\n",
       "<polyline clip-path=\"url(#clip680)\" style=\"stroke:#000000; stroke-linecap:round; stroke-linejoin:round; stroke-width:4; stroke-opacity:1; fill:none\" points=\"1455.41,1486.45 1455.41,1467.55 \"/>\n",
       "<polyline clip-path=\"url(#clip680)\" style=\"stroke:#000000; stroke-linecap:round; stroke-linejoin:round; stroke-width:4; stroke-opacity:1; fill:none\" points=\"1872.78,1486.45 1872.78,1467.55 \"/>\n",
       "<polyline clip-path=\"url(#clip680)\" style=\"stroke:#000000; stroke-linecap:round; stroke-linejoin:round; stroke-width:4; stroke-opacity:1; fill:none\" points=\"2290.15,1486.45 2290.15,1467.55 \"/>\n",
       "<path clip-path=\"url(#clip680)\" d=\"M203.301 1517.37 Q199.69 1517.37 197.861 1520.93 Q196.056 1524.47 196.056 1531.6 Q196.056 1538.71 197.861 1542.27 Q199.69 1545.82 203.301 1545.82 Q206.935 1545.82 208.741 1542.27 Q210.57 1538.71 210.57 1531.6 Q210.57 1524.47 208.741 1520.93 Q206.935 1517.37 203.301 1517.37 M203.301 1513.66 Q209.111 1513.66 212.167 1518.27 Q215.245 1522.85 215.245 1531.6 Q215.245 1540.33 212.167 1544.94 Q209.111 1549.52 203.301 1549.52 Q197.491 1549.52 194.412 1544.94 Q191.357 1540.33 191.357 1531.6 Q191.357 1522.85 194.412 1518.27 Q197.491 1513.66 203.301 1513.66 Z\" fill=\"#000000\" fill-rule=\"nonzero\" fill-opacity=\"1\" /><path clip-path=\"url(#clip680)\" d=\"M595.359 1544.91 L602.997 1544.91 L602.997 1518.55 L594.687 1520.21 L594.687 1515.95 L602.951 1514.29 L607.627 1514.29 L607.627 1544.91 L615.266 1544.91 L615.266 1548.85 L595.359 1548.85 L595.359 1544.91 Z\" fill=\"#000000\" fill-rule=\"nonzero\" fill-opacity=\"1\" /><path clip-path=\"url(#clip680)\" d=\"M634.71 1517.37 Q631.099 1517.37 629.27 1520.93 Q627.465 1524.47 627.465 1531.6 Q627.465 1538.71 629.27 1542.27 Q631.099 1545.82 634.71 1545.82 Q638.344 1545.82 640.15 1542.27 Q641.979 1538.71 641.979 1531.6 Q641.979 1524.47 640.15 1520.93 Q638.344 1517.37 634.71 1517.37 M634.71 1513.66 Q640.52 1513.66 643.576 1518.27 Q646.655 1522.85 646.655 1531.6 Q646.655 1540.33 643.576 1544.94 Q640.52 1549.52 634.71 1549.52 Q628.9 1549.52 625.821 1544.94 Q622.766 1540.33 622.766 1531.6 Q622.766 1522.85 625.821 1518.27 Q628.9 1513.66 634.71 1513.66 Z\" fill=\"#000000\" fill-rule=\"nonzero\" fill-opacity=\"1\" /><path clip-path=\"url(#clip680)\" d=\"M1016.81 1544.91 L1033.13 1544.91 L1033.13 1548.85 L1011.19 1548.85 L1011.19 1544.91 Q1013.85 1542.16 1018.43 1537.53 Q1023.04 1532.88 1024.22 1531.53 Q1026.47 1529.01 1027.35 1527.27 Q1028.25 1525.51 1028.25 1523.82 Q1028.25 1521.07 1026.3 1519.33 Q1024.38 1517.6 1021.28 1517.6 Q1019.08 1517.6 1016.63 1518.36 Q1014.2 1519.13 1011.42 1520.68 L1011.42 1515.95 Q1014.24 1514.82 1016.7 1514.24 Q1019.15 1513.66 1021.19 1513.66 Q1026.56 1513.66 1029.75 1516.35 Q1032.95 1519.03 1032.95 1523.52 Q1032.95 1525.65 1032.14 1527.57 Q1031.35 1529.47 1029.24 1532.07 Q1028.67 1532.74 1025.56 1535.95 Q1022.46 1539.15 1016.81 1544.91 Z\" fill=\"#000000\" fill-rule=\"nonzero\" fill-opacity=\"1\" /><path clip-path=\"url(#clip680)\" d=\"M1052.95 1517.37 Q1049.34 1517.37 1047.51 1520.93 Q1045.7 1524.47 1045.7 1531.6 Q1045.7 1538.71 1047.51 1542.27 Q1049.34 1545.82 1052.95 1545.82 Q1056.58 1545.82 1058.39 1542.27 Q1060.22 1538.71 1060.22 1531.6 Q1060.22 1524.47 1058.39 1520.93 Q1056.58 1517.37 1052.95 1517.37 M1052.95 1513.66 Q1058.76 1513.66 1061.81 1518.27 Q1064.89 1522.85 1064.89 1531.6 Q1064.89 1540.33 1061.81 1544.94 Q1058.76 1549.52 1052.95 1549.52 Q1047.14 1549.52 1044.06 1544.94 Q1041 1540.33 1041 1531.6 Q1041 1522.85 1044.06 1518.27 Q1047.14 1513.66 1052.95 1513.66 Z\" fill=\"#000000\" fill-rule=\"nonzero\" fill-opacity=\"1\" /><path clip-path=\"url(#clip680)\" d=\"M1444.25 1530.21 Q1447.61 1530.93 1449.48 1533.2 Q1451.38 1535.47 1451.38 1538.8 Q1451.38 1543.92 1447.86 1546.72 Q1444.35 1549.52 1437.86 1549.52 Q1435.69 1549.52 1433.37 1549.08 Q1431.08 1548.66 1428.63 1547.81 L1428.63 1543.29 Q1430.57 1544.43 1432.89 1545.01 Q1435.2 1545.58 1437.73 1545.58 Q1442.12 1545.58 1444.42 1543.85 Q1446.73 1542.11 1446.73 1538.8 Q1446.73 1535.75 1444.58 1534.03 Q1442.45 1532.3 1438.63 1532.3 L1434.6 1532.3 L1434.6 1528.45 L1438.81 1528.45 Q1442.26 1528.45 1444.09 1527.09 Q1445.92 1525.7 1445.92 1523.11 Q1445.92 1520.45 1444.02 1519.03 Q1442.15 1517.6 1438.63 1517.6 Q1436.71 1517.6 1434.51 1518.01 Q1432.31 1518.43 1429.67 1519.31 L1429.67 1515.14 Q1432.33 1514.4 1434.65 1514.03 Q1436.98 1513.66 1439.05 1513.66 Q1444.37 1513.66 1447.47 1516.09 Q1450.57 1518.5 1450.57 1522.62 Q1450.57 1525.49 1448.93 1527.48 Q1447.29 1529.45 1444.25 1530.21 Z\" fill=\"#000000\" fill-rule=\"nonzero\" fill-opacity=\"1\" /><path clip-path=\"url(#clip680)\" d=\"M1470.25 1517.37 Q1466.64 1517.37 1464.81 1520.93 Q1463 1524.47 1463 1531.6 Q1463 1538.71 1464.81 1542.27 Q1466.64 1545.82 1470.25 1545.82 Q1473.88 1545.82 1475.69 1542.27 Q1477.52 1538.71 1477.52 1531.6 Q1477.52 1524.47 1475.69 1520.93 Q1473.88 1517.37 1470.25 1517.37 M1470.25 1513.66 Q1476.06 1513.66 1479.11 1518.27 Q1482.19 1522.85 1482.19 1531.6 Q1482.19 1540.33 1479.11 1544.94 Q1476.06 1549.52 1470.25 1549.52 Q1464.44 1549.52 1461.36 1544.94 Q1458.3 1540.33 1458.3 1531.6 Q1458.3 1522.85 1461.36 1518.27 Q1464.44 1513.66 1470.25 1513.66 Z\" fill=\"#000000\" fill-rule=\"nonzero\" fill-opacity=\"1\" /><path clip-path=\"url(#clip680)\" d=\"M1860.95 1518.36 L1849.15 1536.81 L1860.95 1536.81 L1860.95 1518.36 M1859.73 1514.29 L1865.6 1514.29 L1865.6 1536.81 L1870.54 1536.81 L1870.54 1540.7 L1865.6 1540.7 L1865.6 1548.85 L1860.95 1548.85 L1860.95 1540.7 L1845.35 1540.7 L1845.35 1536.19 L1859.73 1514.29 Z\" fill=\"#000000\" fill-rule=\"nonzero\" fill-opacity=\"1\" /><path clip-path=\"url(#clip680)\" d=\"M1888.27 1517.37 Q1884.66 1517.37 1882.83 1520.93 Q1881.02 1524.47 1881.02 1531.6 Q1881.02 1538.71 1882.83 1542.27 Q1884.66 1545.82 1888.27 1545.82 Q1891.9 1545.82 1893.71 1542.27 Q1895.54 1538.71 1895.54 1531.6 Q1895.54 1524.47 1893.71 1520.93 Q1891.9 1517.37 1888.27 1517.37 M1888.27 1513.66 Q1894.08 1513.66 1897.13 1518.27 Q1900.21 1522.85 1900.21 1531.6 Q1900.21 1540.33 1897.13 1544.94 Q1894.08 1549.52 1888.27 1549.52 Q1882.46 1549.52 1879.38 1544.94 Q1876.32 1540.33 1876.32 1531.6 Q1876.32 1522.85 1879.38 1518.27 Q1882.46 1513.66 1888.27 1513.66 Z\" fill=\"#000000\" fill-rule=\"nonzero\" fill-opacity=\"1\" /><path clip-path=\"url(#clip680)\" d=\"M2264.85 1514.29 L2283.21 1514.29 L2283.21 1518.22 L2269.13 1518.22 L2269.13 1526.7 Q2270.15 1526.35 2271.17 1526.19 Q2272.19 1526 2273.21 1526 Q2278.99 1526 2282.37 1529.17 Q2285.75 1532.34 2285.75 1537.76 Q2285.75 1543.34 2282.28 1546.44 Q2278.81 1549.52 2272.49 1549.52 Q2270.31 1549.52 2268.04 1549.15 Q2265.8 1548.78 2263.39 1548.04 L2263.39 1543.34 Q2265.47 1544.47 2267.7 1545.03 Q2269.92 1545.58 2272.4 1545.58 Q2276.4 1545.58 2278.74 1543.48 Q2281.08 1541.37 2281.08 1537.76 Q2281.08 1534.15 2278.74 1532.04 Q2276.4 1529.94 2272.4 1529.94 Q2270.52 1529.94 2268.65 1530.35 Q2266.79 1530.77 2264.85 1531.65 L2264.85 1514.29 Z\" fill=\"#000000\" fill-rule=\"nonzero\" fill-opacity=\"1\" /><path clip-path=\"url(#clip680)\" d=\"M2304.97 1517.37 Q2301.35 1517.37 2299.53 1520.93 Q2297.72 1524.47 2297.72 1531.6 Q2297.72 1538.71 2299.53 1542.27 Q2301.35 1545.82 2304.97 1545.82 Q2308.6 1545.82 2310.4 1542.27 Q2312.23 1538.71 2312.23 1531.6 Q2312.23 1524.47 2310.4 1520.93 Q2308.6 1517.37 2304.97 1517.37 M2304.97 1513.66 Q2310.78 1513.66 2313.83 1518.27 Q2316.91 1522.85 2316.91 1531.6 Q2316.91 1540.33 2313.83 1544.94 Q2310.78 1549.52 2304.97 1549.52 Q2299.16 1549.52 2296.08 1544.94 Q2293.02 1540.33 2293.02 1531.6 Q2293.02 1522.85 2296.08 1518.27 Q2299.16 1513.66 2304.97 1513.66 Z\" fill=\"#000000\" fill-rule=\"nonzero\" fill-opacity=\"1\" /><polyline clip-path=\"url(#clip682)\" style=\"stroke:#000000; stroke-linecap:round; stroke-linejoin:round; stroke-width:2; stroke-opacity:0.1; fill:none\" points=\"140.696,1457.56 2352.76,1457.56 \"/>\n",
       "<polyline clip-path=\"url(#clip682)\" style=\"stroke:#000000; stroke-linecap:round; stroke-linejoin:round; stroke-width:2; stroke-opacity:0.1; fill:none\" points=\"140.696,1220.9 2352.76,1220.9 \"/>\n",
       "<polyline clip-path=\"url(#clip682)\" style=\"stroke:#000000; stroke-linecap:round; stroke-linejoin:round; stroke-width:2; stroke-opacity:0.1; fill:none\" points=\"140.696,984.24 2352.76,984.24 \"/>\n",
       "<polyline clip-path=\"url(#clip682)\" style=\"stroke:#000000; stroke-linecap:round; stroke-linejoin:round; stroke-width:2; stroke-opacity:0.1; fill:none\" points=\"140.696,747.578 2352.76,747.578 \"/>\n",
       "<polyline clip-path=\"url(#clip682)\" style=\"stroke:#000000; stroke-linecap:round; stroke-linejoin:round; stroke-width:2; stroke-opacity:0.1; fill:none\" points=\"140.696,510.916 2352.76,510.916 \"/>\n",
       "<polyline clip-path=\"url(#clip682)\" style=\"stroke:#000000; stroke-linecap:round; stroke-linejoin:round; stroke-width:2; stroke-opacity:0.1; fill:none\" points=\"140.696,274.255 2352.76,274.255 \"/>\n",
       "<polyline clip-path=\"url(#clip680)\" style=\"stroke:#000000; stroke-linecap:round; stroke-linejoin:round; stroke-width:4; stroke-opacity:1; fill:none\" points=\"140.696,1486.45 140.696,47.2441 \"/>\n",
       "<polyline clip-path=\"url(#clip680)\" style=\"stroke:#000000; stroke-linecap:round; stroke-linejoin:round; stroke-width:4; stroke-opacity:1; fill:none\" points=\"140.696,1457.56 159.593,1457.56 \"/>\n",
       "<polyline clip-path=\"url(#clip680)\" style=\"stroke:#000000; stroke-linecap:round; stroke-linejoin:round; stroke-width:4; stroke-opacity:1; fill:none\" points=\"140.696,1220.9 159.593,1220.9 \"/>\n",
       "<polyline clip-path=\"url(#clip680)\" style=\"stroke:#000000; stroke-linecap:round; stroke-linejoin:round; stroke-width:4; stroke-opacity:1; fill:none\" points=\"140.696,984.24 159.593,984.24 \"/>\n",
       "<polyline clip-path=\"url(#clip680)\" style=\"stroke:#000000; stroke-linecap:round; stroke-linejoin:round; stroke-width:4; stroke-opacity:1; fill:none\" points=\"140.696,747.578 159.593,747.578 \"/>\n",
       "<polyline clip-path=\"url(#clip680)\" style=\"stroke:#000000; stroke-linecap:round; stroke-linejoin:round; stroke-width:4; stroke-opacity:1; fill:none\" points=\"140.696,510.916 159.593,510.916 \"/>\n",
       "<polyline clip-path=\"url(#clip680)\" style=\"stroke:#000000; stroke-linecap:round; stroke-linejoin:round; stroke-width:4; stroke-opacity:1; fill:none\" points=\"140.696,274.255 159.593,274.255 \"/>\n",
       "<path clip-path=\"url(#clip680)\" d=\"M92.7512 1443.36 Q89.1401 1443.36 87.3114 1446.93 Q85.5058 1450.47 85.5058 1457.6 Q85.5058 1464.7 87.3114 1468.27 Q89.1401 1471.81 92.7512 1471.81 Q96.3854 1471.81 98.1909 1468.27 Q100.02 1464.7 100.02 1457.6 Q100.02 1450.47 98.1909 1446.93 Q96.3854 1443.36 92.7512 1443.36 M92.7512 1439.66 Q98.5613 1439.66 101.617 1444.26 Q104.696 1448.85 104.696 1457.6 Q104.696 1466.32 101.617 1470.93 Q98.5613 1475.51 92.7512 1475.51 Q86.941 1475.51 83.8623 1470.93 Q80.8068 1466.32 80.8068 1457.6 Q80.8068 1448.85 83.8623 1444.26 Q86.941 1439.66 92.7512 1439.66 Z\" fill=\"#000000\" fill-rule=\"nonzero\" fill-opacity=\"1\" /><path clip-path=\"url(#clip680)\" d=\"M83.7929 1203.62 L102.149 1203.62 L102.149 1207.56 L88.0753 1207.56 L88.0753 1216.03 Q89.0938 1215.68 90.1123 1215.52 Q91.1308 1215.33 92.1493 1215.33 Q97.9363 1215.33 101.316 1218.51 Q104.696 1221.68 104.696 1227.09 Q104.696 1232.67 101.223 1235.77 Q97.7511 1238.85 91.4317 1238.85 Q89.2558 1238.85 86.9873 1238.48 Q84.7419 1238.11 82.3346 1237.37 L82.3346 1232.67 Q84.4179 1233.81 86.6401 1234.36 Q88.8623 1234.92 91.3391 1234.92 Q95.3437 1234.92 97.6817 1232.81 Q100.02 1230.7 100.02 1227.09 Q100.02 1223.48 97.6817 1221.38 Q95.3437 1219.27 91.3391 1219.27 Q89.4641 1219.27 87.5892 1219.69 Q85.7373 1220.1 83.7929 1220.98 L83.7929 1203.62 Z\" fill=\"#000000\" fill-rule=\"nonzero\" fill-opacity=\"1\" /><path clip-path=\"url(#clip680)\" d=\"M53.3995 997.584 L61.0384 997.584 L61.0384 971.219 L52.7282 972.886 L52.7282 968.626 L60.9921 966.96 L65.668 966.96 L65.668 997.584 L73.3068 997.584 L73.3068 1001.52 L53.3995 1001.52 L53.3995 997.584 Z\" fill=\"#000000\" fill-rule=\"nonzero\" fill-opacity=\"1\" /><path clip-path=\"url(#clip680)\" d=\"M92.7512 970.038 Q89.1401 970.038 87.3114 973.603 Q85.5058 977.145 85.5058 984.274 Q85.5058 991.381 87.3114 994.946 Q89.1401 998.487 92.7512 998.487 Q96.3854 998.487 98.1909 994.946 Q100.02 991.381 100.02 984.274 Q100.02 977.145 98.1909 973.603 Q96.3854 970.038 92.7512 970.038 M92.7512 966.335 Q98.5613 966.335 101.617 970.941 Q104.696 975.524 104.696 984.274 Q104.696 993.001 101.617 997.608 Q98.5613 1002.19 92.7512 1002.19 Q86.941 1002.19 83.8623 997.608 Q80.8068 993.001 80.8068 984.274 Q80.8068 975.524 83.8623 970.941 Q86.941 966.335 92.7512 966.335 Z\" fill=\"#000000\" fill-rule=\"nonzero\" fill-opacity=\"1\" /><path clip-path=\"url(#clip680)\" d=\"M54.3949 760.923 L62.0337 760.923 L62.0337 734.557 L53.7236 736.224 L53.7236 731.965 L61.9874 730.298 L66.6633 730.298 L66.6633 760.923 L74.3022 760.923 L74.3022 764.858 L54.3949 764.858 L54.3949 760.923 Z\" fill=\"#000000\" fill-rule=\"nonzero\" fill-opacity=\"1\" /><path clip-path=\"url(#clip680)\" d=\"M83.7929 730.298 L102.149 730.298 L102.149 734.233 L88.0753 734.233 L88.0753 742.705 Q89.0938 742.358 90.1123 742.196 Q91.1308 742.011 92.1493 742.011 Q97.9363 742.011 101.316 745.182 Q104.696 748.353 104.696 753.77 Q104.696 759.349 101.223 762.451 Q97.7511 765.529 91.4317 765.529 Q89.2558 765.529 86.9873 765.159 Q84.7419 764.788 82.3346 764.048 L82.3346 759.349 Q84.4179 760.483 86.6401 761.038 Q88.8623 761.594 91.3391 761.594 Q95.3437 761.594 97.6817 759.488 Q100.02 757.381 100.02 753.77 Q100.02 750.159 97.6817 748.052 Q95.3437 745.946 91.3391 745.946 Q89.4641 745.946 87.5892 746.363 Q85.7373 746.779 83.7929 747.659 L83.7929 730.298 Z\" fill=\"#000000\" fill-rule=\"nonzero\" fill-opacity=\"1\" /><path clip-path=\"url(#clip680)\" d=\"M56.6171 524.261 L72.9365 524.261 L72.9365 528.196 L50.9921 528.196 L50.9921 524.261 Q53.6541 521.506 58.2375 516.877 Q62.8439 512.224 64.0245 510.881 Q66.2698 508.358 67.1494 506.622 Q68.0522 504.863 68.0522 503.173 Q68.0522 500.419 66.1078 498.682 Q64.1865 496.946 61.0847 496.946 Q58.8856 496.946 56.4319 497.71 Q54.0014 498.474 51.2236 500.025 L51.2236 495.303 Q54.0477 494.169 56.5014 493.59 Q58.955 493.011 60.9921 493.011 Q66.3624 493.011 69.5568 495.696 Q72.7513 498.382 72.7513 502.872 Q72.7513 505.002 71.9411 506.923 Q71.1541 508.821 69.0476 511.414 Q68.4689 512.085 65.367 515.303 Q62.2652 518.497 56.6171 524.261 Z\" fill=\"#000000\" fill-rule=\"nonzero\" fill-opacity=\"1\" /><path clip-path=\"url(#clip680)\" d=\"M92.7512 496.715 Q89.1401 496.715 87.3114 500.28 Q85.5058 503.821 85.5058 510.951 Q85.5058 518.057 87.3114 521.622 Q89.1401 525.164 92.7512 525.164 Q96.3854 525.164 98.1909 521.622 Q100.02 518.057 100.02 510.951 Q100.02 503.821 98.1909 500.28 Q96.3854 496.715 92.7512 496.715 M92.7512 493.011 Q98.5613 493.011 101.617 497.618 Q104.696 502.201 104.696 510.951 Q104.696 519.678 101.617 524.284 Q98.5613 528.868 92.7512 528.868 Q86.941 528.868 83.8623 524.284 Q80.8068 519.678 80.8068 510.951 Q80.8068 502.201 83.8623 497.618 Q86.941 493.011 92.7512 493.011 Z\" fill=\"#000000\" fill-rule=\"nonzero\" fill-opacity=\"1\" /><path clip-path=\"url(#clip680)\" d=\"M57.6125 287.599 L73.9318 287.599 L73.9318 291.535 L51.9875 291.535 L51.9875 287.599 Q54.6495 284.845 59.2328 280.215 Q63.8393 275.562 65.0198 274.22 Q67.2652 271.697 68.1448 269.961 Q69.0476 268.201 69.0476 266.511 Q69.0476 263.757 67.1032 262.021 Q65.1819 260.285 62.08 260.285 Q59.881 260.285 57.4273 261.049 Q54.9967 261.812 52.219 263.363 L52.219 258.641 Q55.043 257.507 57.4967 256.928 Q59.9504 256.35 61.9874 256.35 Q67.3578 256.35 70.5522 259.035 Q73.7466 261.72 73.7466 266.211 Q73.7466 268.34 72.9365 270.261 Q72.1494 272.16 70.0429 274.752 Q69.4642 275.423 66.3624 278.641 Q63.2606 281.835 57.6125 287.599 Z\" fill=\"#000000\" fill-rule=\"nonzero\" fill-opacity=\"1\" /><path clip-path=\"url(#clip680)\" d=\"M83.7929 256.975 L102.149 256.975 L102.149 260.91 L88.0753 260.91 L88.0753 269.382 Q89.0938 269.035 90.1123 268.873 Q91.1308 268.687 92.1493 268.687 Q97.9363 268.687 101.316 271.859 Q104.696 275.03 104.696 280.447 Q104.696 286.025 101.223 289.127 Q97.7511 292.206 91.4317 292.206 Q89.2558 292.206 86.9873 291.835 Q84.7419 291.465 82.3346 290.724 L82.3346 286.025 Q84.4179 287.16 86.6401 287.715 Q88.8623 288.271 91.3391 288.271 Q95.3437 288.271 97.6817 286.164 Q100.02 284.058 100.02 280.447 Q100.02 276.836 97.6817 274.729 Q95.3437 272.623 91.3391 272.623 Q89.4641 272.623 87.5892 273.039 Q85.7373 273.456 83.7929 274.336 L83.7929 256.975 Z\" fill=\"#000000\" fill-rule=\"nonzero\" fill-opacity=\"1\" /><polyline clip-path=\"url(#clip682)\" style=\"stroke:#009af9; stroke-linecap:round; stroke-linejoin:round; stroke-width:4; stroke-opacity:1; fill:none\" points=\"203.301,1392.73 245.038,1379.81 286.775,1394.64 328.512,1445.72 370.249,1239.41 411.986,1138.85 453.723,1332.76 495.46,1173.68 537.197,1317.87 578.934,1398.64 620.671,87.9763 662.408,1289.1 704.145,1344.99 745.882,1350.61 787.619,1307.26 829.356,1402.28 871.093,1141.62 912.83,1278.95 954.567,1191.88 996.304,1351.17 1038.04,1298.8 1079.78,1393.92 1121.51,1300.8 1163.25,1307.61 1204.99,1410.97 1246.73,1377.53 1288.46,1233.46 1330.2,1159.75 1371.94,1320.02 1413.67,1251.29 1455.41,1315.85 1497.15,1398.27 1538.88,1414.63 1580.62,1348.02 1622.36,1324.15 1664.1,898.436 1705.83,1217.95 1747.57,1248.25 1789.31,1216.11 1831.04,1268.32 1872.78,1355.93 1914.52,1107.49 1956.25,1117.21 1997.99,1228.48 2039.73,1321.11 2081.47,1324.95 2123.2,1251.93 2164.94,1289.08 2206.68,1360.29 2248.41,1338.36 2290.15,1176.43 \"/>\n",
       "<path clip-path=\"url(#clip680)\" d=\"M2005.38 198.898 L2279.02 198.898 L2279.02 95.2176 L2005.38 95.2176  Z\" fill=\"#ffffff\" fill-rule=\"evenodd\" fill-opacity=\"1\"/>\n",
       "<polyline clip-path=\"url(#clip680)\" style=\"stroke:#000000; stroke-linecap:round; stroke-linejoin:round; stroke-width:4; stroke-opacity:1; fill:none\" points=\"2005.38,198.898 2279.02,198.898 2279.02,95.2176 2005.38,95.2176 2005.38,198.898 \"/>\n",
       "<polyline clip-path=\"url(#clip680)\" style=\"stroke:#009af9; stroke-linecap:round; stroke-linejoin:round; stroke-width:4; stroke-opacity:1; fill:none\" points=\"2029.96,147.058 2177.43,147.058 \"/>\n",
       "<path clip-path=\"url(#clip680)\" d=\"M2215.85 166.745 Q2214.05 171.375 2212.34 172.787 Q2210.62 174.199 2207.75 174.199 L2204.35 174.199 L2204.35 170.634 L2206.85 170.634 Q2208.61 170.634 2209.58 169.8 Q2210.55 168.967 2211.73 165.865 L2212.5 163.921 L2202.01 138.412 L2206.53 138.412 L2214.63 158.689 L2222.73 138.412 L2227.24 138.412 L2215.85 166.745 Z\" fill=\"#000000\" fill-rule=\"nonzero\" fill-opacity=\"1\" /><path clip-path=\"url(#clip680)\" d=\"M2234.53 160.402 L2242.17 160.402 L2242.17 134.037 L2233.86 135.703 L2233.86 131.444 L2242.13 129.778 L2246.8 129.778 L2246.8 160.402 L2254.44 160.402 L2254.44 164.338 L2234.53 164.338 L2234.53 160.402 Z\" fill=\"#000000\" fill-rule=\"nonzero\" fill-opacity=\"1\" /></svg>\n"
      ],
      "text/html": [
       "<?xml version=\"1.0\" encoding=\"utf-8\"?>\n",
       "<svg xmlns=\"http://www.w3.org/2000/svg\" xmlns:xlink=\"http://www.w3.org/1999/xlink\" width=\"600\" height=\"400\" viewBox=\"0 0 2400 1600\">\n",
       "<defs>\n",
       "  <clipPath id=\"clip730\">\n",
       "    <rect x=\"0\" y=\"0\" width=\"2400\" height=\"1600\"/>\n",
       "  </clipPath>\n",
       "</defs>\n",
       "<path clip-path=\"url(#clip730)\" d=\"M0 1600 L2400 1600 L2400 0 L0 0  Z\" fill=\"#ffffff\" fill-rule=\"evenodd\" fill-opacity=\"1\"/>\n",
       "<defs>\n",
       "  <clipPath id=\"clip731\">\n",
       "    <rect x=\"480\" y=\"0\" width=\"1681\" height=\"1600\"/>\n",
       "  </clipPath>\n",
       "</defs>\n",
       "<path clip-path=\"url(#clip730)\" d=\"M140.696 1486.45 L2352.76 1486.45 L2352.76 47.2441 L140.696 47.2441  Z\" fill=\"#ffffff\" fill-rule=\"evenodd\" fill-opacity=\"1\"/>\n",
       "<defs>\n",
       "  <clipPath id=\"clip732\">\n",
       "    <rect x=\"140\" y=\"47\" width=\"2213\" height=\"1440\"/>\n",
       "  </clipPath>\n",
       "</defs>\n",
       "<polyline clip-path=\"url(#clip732)\" style=\"stroke:#000000; stroke-linecap:round; stroke-linejoin:round; stroke-width:2; stroke-opacity:0.1; fill:none\" points=\"203.301,1486.45 203.301,47.2441 \"/>\n",
       "<polyline clip-path=\"url(#clip732)\" style=\"stroke:#000000; stroke-linecap:round; stroke-linejoin:round; stroke-width:2; stroke-opacity:0.1; fill:none\" points=\"620.671,1486.45 620.671,47.2441 \"/>\n",
       "<polyline clip-path=\"url(#clip732)\" style=\"stroke:#000000; stroke-linecap:round; stroke-linejoin:round; stroke-width:2; stroke-opacity:0.1; fill:none\" points=\"1038.04,1486.45 1038.04,47.2441 \"/>\n",
       "<polyline clip-path=\"url(#clip732)\" style=\"stroke:#000000; stroke-linecap:round; stroke-linejoin:round; stroke-width:2; stroke-opacity:0.1; fill:none\" points=\"1455.41,1486.45 1455.41,47.2441 \"/>\n",
       "<polyline clip-path=\"url(#clip732)\" style=\"stroke:#000000; stroke-linecap:round; stroke-linejoin:round; stroke-width:2; stroke-opacity:0.1; fill:none\" points=\"1872.78,1486.45 1872.78,47.2441 \"/>\n",
       "<polyline clip-path=\"url(#clip732)\" style=\"stroke:#000000; stroke-linecap:round; stroke-linejoin:round; stroke-width:2; stroke-opacity:0.1; fill:none\" points=\"2290.15,1486.45 2290.15,47.2441 \"/>\n",
       "<polyline clip-path=\"url(#clip730)\" style=\"stroke:#000000; stroke-linecap:round; stroke-linejoin:round; stroke-width:4; stroke-opacity:1; fill:none\" points=\"140.696,1486.45 2352.76,1486.45 \"/>\n",
       "<polyline clip-path=\"url(#clip730)\" style=\"stroke:#000000; stroke-linecap:round; stroke-linejoin:round; stroke-width:4; stroke-opacity:1; fill:none\" points=\"203.301,1486.45 203.301,1467.55 \"/>\n",
       "<polyline clip-path=\"url(#clip730)\" style=\"stroke:#000000; stroke-linecap:round; stroke-linejoin:round; stroke-width:4; stroke-opacity:1; fill:none\" points=\"620.671,1486.45 620.671,1467.55 \"/>\n",
       "<polyline clip-path=\"url(#clip730)\" style=\"stroke:#000000; stroke-linecap:round; stroke-linejoin:round; stroke-width:4; stroke-opacity:1; fill:none\" points=\"1038.04,1486.45 1038.04,1467.55 \"/>\n",
       "<polyline clip-path=\"url(#clip730)\" style=\"stroke:#000000; stroke-linecap:round; stroke-linejoin:round; stroke-width:4; stroke-opacity:1; fill:none\" points=\"1455.41,1486.45 1455.41,1467.55 \"/>\n",
       "<polyline clip-path=\"url(#clip730)\" style=\"stroke:#000000; stroke-linecap:round; stroke-linejoin:round; stroke-width:4; stroke-opacity:1; fill:none\" points=\"1872.78,1486.45 1872.78,1467.55 \"/>\n",
       "<polyline clip-path=\"url(#clip730)\" style=\"stroke:#000000; stroke-linecap:round; stroke-linejoin:round; stroke-width:4; stroke-opacity:1; fill:none\" points=\"2290.15,1486.45 2290.15,1467.55 \"/>\n",
       "<path clip-path=\"url(#clip730)\" d=\"M203.301 1517.37 Q199.69 1517.37 197.861 1520.93 Q196.056 1524.47 196.056 1531.6 Q196.056 1538.71 197.861 1542.27 Q199.69 1545.82 203.301 1545.82 Q206.935 1545.82 208.741 1542.27 Q210.57 1538.71 210.57 1531.6 Q210.57 1524.47 208.741 1520.93 Q206.935 1517.37 203.301 1517.37 M203.301 1513.66 Q209.111 1513.66 212.167 1518.27 Q215.245 1522.85 215.245 1531.6 Q215.245 1540.33 212.167 1544.94 Q209.111 1549.52 203.301 1549.52 Q197.491 1549.52 194.412 1544.94 Q191.357 1540.33 191.357 1531.6 Q191.357 1522.85 194.412 1518.27 Q197.491 1513.66 203.301 1513.66 Z\" fill=\"#000000\" fill-rule=\"nonzero\" fill-opacity=\"1\" /><path clip-path=\"url(#clip730)\" d=\"M595.359 1544.91 L602.997 1544.91 L602.997 1518.55 L594.687 1520.21 L594.687 1515.95 L602.951 1514.29 L607.627 1514.29 L607.627 1544.91 L615.266 1544.91 L615.266 1548.85 L595.359 1548.85 L595.359 1544.91 Z\" fill=\"#000000\" fill-rule=\"nonzero\" fill-opacity=\"1\" /><path clip-path=\"url(#clip730)\" d=\"M634.71 1517.37 Q631.099 1517.37 629.27 1520.93 Q627.465 1524.47 627.465 1531.6 Q627.465 1538.71 629.27 1542.27 Q631.099 1545.82 634.71 1545.82 Q638.344 1545.82 640.15 1542.27 Q641.979 1538.71 641.979 1531.6 Q641.979 1524.47 640.15 1520.93 Q638.344 1517.37 634.71 1517.37 M634.71 1513.66 Q640.52 1513.66 643.576 1518.27 Q646.655 1522.85 646.655 1531.6 Q646.655 1540.33 643.576 1544.94 Q640.52 1549.52 634.71 1549.52 Q628.9 1549.52 625.821 1544.94 Q622.766 1540.33 622.766 1531.6 Q622.766 1522.85 625.821 1518.27 Q628.9 1513.66 634.71 1513.66 Z\" fill=\"#000000\" fill-rule=\"nonzero\" fill-opacity=\"1\" /><path clip-path=\"url(#clip730)\" d=\"M1016.81 1544.91 L1033.13 1544.91 L1033.13 1548.85 L1011.19 1548.85 L1011.19 1544.91 Q1013.85 1542.16 1018.43 1537.53 Q1023.04 1532.88 1024.22 1531.53 Q1026.47 1529.01 1027.35 1527.27 Q1028.25 1525.51 1028.25 1523.82 Q1028.25 1521.07 1026.3 1519.33 Q1024.38 1517.6 1021.28 1517.6 Q1019.08 1517.6 1016.63 1518.36 Q1014.2 1519.13 1011.42 1520.68 L1011.42 1515.95 Q1014.24 1514.82 1016.7 1514.24 Q1019.15 1513.66 1021.19 1513.66 Q1026.56 1513.66 1029.75 1516.35 Q1032.95 1519.03 1032.95 1523.52 Q1032.95 1525.65 1032.14 1527.57 Q1031.35 1529.47 1029.24 1532.07 Q1028.67 1532.74 1025.56 1535.95 Q1022.46 1539.15 1016.81 1544.91 Z\" fill=\"#000000\" fill-rule=\"nonzero\" fill-opacity=\"1\" /><path clip-path=\"url(#clip730)\" d=\"M1052.95 1517.37 Q1049.34 1517.37 1047.51 1520.93 Q1045.7 1524.47 1045.7 1531.6 Q1045.7 1538.71 1047.51 1542.27 Q1049.34 1545.82 1052.95 1545.82 Q1056.58 1545.82 1058.39 1542.27 Q1060.22 1538.71 1060.22 1531.6 Q1060.22 1524.47 1058.39 1520.93 Q1056.58 1517.37 1052.95 1517.37 M1052.95 1513.66 Q1058.76 1513.66 1061.81 1518.27 Q1064.89 1522.85 1064.89 1531.6 Q1064.89 1540.33 1061.81 1544.94 Q1058.76 1549.52 1052.95 1549.52 Q1047.14 1549.52 1044.06 1544.94 Q1041 1540.33 1041 1531.6 Q1041 1522.85 1044.06 1518.27 Q1047.14 1513.66 1052.95 1513.66 Z\" fill=\"#000000\" fill-rule=\"nonzero\" fill-opacity=\"1\" /><path clip-path=\"url(#clip730)\" d=\"M1444.25 1530.21 Q1447.61 1530.93 1449.48 1533.2 Q1451.38 1535.47 1451.38 1538.8 Q1451.38 1543.92 1447.86 1546.72 Q1444.35 1549.52 1437.86 1549.52 Q1435.69 1549.52 1433.37 1549.08 Q1431.08 1548.66 1428.63 1547.81 L1428.63 1543.29 Q1430.57 1544.43 1432.89 1545.01 Q1435.2 1545.58 1437.73 1545.58 Q1442.12 1545.58 1444.42 1543.85 Q1446.73 1542.11 1446.73 1538.8 Q1446.73 1535.75 1444.58 1534.03 Q1442.45 1532.3 1438.63 1532.3 L1434.6 1532.3 L1434.6 1528.45 L1438.81 1528.45 Q1442.26 1528.45 1444.09 1527.09 Q1445.92 1525.7 1445.92 1523.11 Q1445.92 1520.45 1444.02 1519.03 Q1442.15 1517.6 1438.63 1517.6 Q1436.71 1517.6 1434.51 1518.01 Q1432.31 1518.43 1429.67 1519.31 L1429.67 1515.14 Q1432.33 1514.4 1434.65 1514.03 Q1436.98 1513.66 1439.05 1513.66 Q1444.37 1513.66 1447.47 1516.09 Q1450.57 1518.5 1450.57 1522.62 Q1450.57 1525.49 1448.93 1527.48 Q1447.29 1529.45 1444.25 1530.21 Z\" fill=\"#000000\" fill-rule=\"nonzero\" fill-opacity=\"1\" /><path clip-path=\"url(#clip730)\" d=\"M1470.25 1517.37 Q1466.64 1517.37 1464.81 1520.93 Q1463 1524.47 1463 1531.6 Q1463 1538.71 1464.81 1542.27 Q1466.64 1545.82 1470.25 1545.82 Q1473.88 1545.82 1475.69 1542.27 Q1477.52 1538.71 1477.52 1531.6 Q1477.52 1524.47 1475.69 1520.93 Q1473.88 1517.37 1470.25 1517.37 M1470.25 1513.66 Q1476.06 1513.66 1479.11 1518.27 Q1482.19 1522.85 1482.19 1531.6 Q1482.19 1540.33 1479.11 1544.94 Q1476.06 1549.52 1470.25 1549.52 Q1464.44 1549.52 1461.36 1544.94 Q1458.3 1540.33 1458.3 1531.6 Q1458.3 1522.85 1461.36 1518.27 Q1464.44 1513.66 1470.25 1513.66 Z\" fill=\"#000000\" fill-rule=\"nonzero\" fill-opacity=\"1\" /><path clip-path=\"url(#clip730)\" d=\"M1860.95 1518.36 L1849.15 1536.81 L1860.95 1536.81 L1860.95 1518.36 M1859.73 1514.29 L1865.6 1514.29 L1865.6 1536.81 L1870.54 1536.81 L1870.54 1540.7 L1865.6 1540.7 L1865.6 1548.85 L1860.95 1548.85 L1860.95 1540.7 L1845.35 1540.7 L1845.35 1536.19 L1859.73 1514.29 Z\" fill=\"#000000\" fill-rule=\"nonzero\" fill-opacity=\"1\" /><path clip-path=\"url(#clip730)\" d=\"M1888.27 1517.37 Q1884.66 1517.37 1882.83 1520.93 Q1881.02 1524.47 1881.02 1531.6 Q1881.02 1538.71 1882.83 1542.27 Q1884.66 1545.82 1888.27 1545.82 Q1891.9 1545.82 1893.71 1542.27 Q1895.54 1538.71 1895.54 1531.6 Q1895.54 1524.47 1893.71 1520.93 Q1891.9 1517.37 1888.27 1517.37 M1888.27 1513.66 Q1894.08 1513.66 1897.13 1518.27 Q1900.21 1522.85 1900.21 1531.6 Q1900.21 1540.33 1897.13 1544.94 Q1894.08 1549.52 1888.27 1549.52 Q1882.46 1549.52 1879.38 1544.94 Q1876.32 1540.33 1876.32 1531.6 Q1876.32 1522.85 1879.38 1518.27 Q1882.46 1513.66 1888.27 1513.66 Z\" fill=\"#000000\" fill-rule=\"nonzero\" fill-opacity=\"1\" /><path clip-path=\"url(#clip730)\" d=\"M2264.85 1514.29 L2283.21 1514.29 L2283.21 1518.22 L2269.13 1518.22 L2269.13 1526.7 Q2270.15 1526.35 2271.17 1526.19 Q2272.19 1526 2273.21 1526 Q2278.99 1526 2282.37 1529.17 Q2285.75 1532.34 2285.75 1537.76 Q2285.75 1543.34 2282.28 1546.44 Q2278.81 1549.52 2272.49 1549.52 Q2270.31 1549.52 2268.04 1549.15 Q2265.8 1548.78 2263.39 1548.04 L2263.39 1543.34 Q2265.47 1544.47 2267.7 1545.03 Q2269.92 1545.58 2272.4 1545.58 Q2276.4 1545.58 2278.74 1543.48 Q2281.08 1541.37 2281.08 1537.76 Q2281.08 1534.15 2278.74 1532.04 Q2276.4 1529.94 2272.4 1529.94 Q2270.52 1529.94 2268.65 1530.35 Q2266.79 1530.77 2264.85 1531.65 L2264.85 1514.29 Z\" fill=\"#000000\" fill-rule=\"nonzero\" fill-opacity=\"1\" /><path clip-path=\"url(#clip730)\" d=\"M2304.97 1517.37 Q2301.35 1517.37 2299.53 1520.93 Q2297.72 1524.47 2297.72 1531.6 Q2297.72 1538.71 2299.53 1542.27 Q2301.35 1545.82 2304.97 1545.82 Q2308.6 1545.82 2310.4 1542.27 Q2312.23 1538.71 2312.23 1531.6 Q2312.23 1524.47 2310.4 1520.93 Q2308.6 1517.37 2304.97 1517.37 M2304.97 1513.66 Q2310.78 1513.66 2313.83 1518.27 Q2316.91 1522.85 2316.91 1531.6 Q2316.91 1540.33 2313.83 1544.94 Q2310.78 1549.52 2304.97 1549.52 Q2299.16 1549.52 2296.08 1544.94 Q2293.02 1540.33 2293.02 1531.6 Q2293.02 1522.85 2296.08 1518.27 Q2299.16 1513.66 2304.97 1513.66 Z\" fill=\"#000000\" fill-rule=\"nonzero\" fill-opacity=\"1\" /><polyline clip-path=\"url(#clip732)\" style=\"stroke:#000000; stroke-linecap:round; stroke-linejoin:round; stroke-width:2; stroke-opacity:0.1; fill:none\" points=\"140.696,1457.56 2352.76,1457.56 \"/>\n",
       "<polyline clip-path=\"url(#clip732)\" style=\"stroke:#000000; stroke-linecap:round; stroke-linejoin:round; stroke-width:2; stroke-opacity:0.1; fill:none\" points=\"140.696,1220.9 2352.76,1220.9 \"/>\n",
       "<polyline clip-path=\"url(#clip732)\" style=\"stroke:#000000; stroke-linecap:round; stroke-linejoin:round; stroke-width:2; stroke-opacity:0.1; fill:none\" points=\"140.696,984.24 2352.76,984.24 \"/>\n",
       "<polyline clip-path=\"url(#clip732)\" style=\"stroke:#000000; stroke-linecap:round; stroke-linejoin:round; stroke-width:2; stroke-opacity:0.1; fill:none\" points=\"140.696,747.578 2352.76,747.578 \"/>\n",
       "<polyline clip-path=\"url(#clip732)\" style=\"stroke:#000000; stroke-linecap:round; stroke-linejoin:round; stroke-width:2; stroke-opacity:0.1; fill:none\" points=\"140.696,510.916 2352.76,510.916 \"/>\n",
       "<polyline clip-path=\"url(#clip732)\" style=\"stroke:#000000; stroke-linecap:round; stroke-linejoin:round; stroke-width:2; stroke-opacity:0.1; fill:none\" points=\"140.696,274.255 2352.76,274.255 \"/>\n",
       "<polyline clip-path=\"url(#clip730)\" style=\"stroke:#000000; stroke-linecap:round; stroke-linejoin:round; stroke-width:4; stroke-opacity:1; fill:none\" points=\"140.696,1486.45 140.696,47.2441 \"/>\n",
       "<polyline clip-path=\"url(#clip730)\" style=\"stroke:#000000; stroke-linecap:round; stroke-linejoin:round; stroke-width:4; stroke-opacity:1; fill:none\" points=\"140.696,1457.56 159.593,1457.56 \"/>\n",
       "<polyline clip-path=\"url(#clip730)\" style=\"stroke:#000000; stroke-linecap:round; stroke-linejoin:round; stroke-width:4; stroke-opacity:1; fill:none\" points=\"140.696,1220.9 159.593,1220.9 \"/>\n",
       "<polyline clip-path=\"url(#clip730)\" style=\"stroke:#000000; stroke-linecap:round; stroke-linejoin:round; stroke-width:4; stroke-opacity:1; fill:none\" points=\"140.696,984.24 159.593,984.24 \"/>\n",
       "<polyline clip-path=\"url(#clip730)\" style=\"stroke:#000000; stroke-linecap:round; stroke-linejoin:round; stroke-width:4; stroke-opacity:1; fill:none\" points=\"140.696,747.578 159.593,747.578 \"/>\n",
       "<polyline clip-path=\"url(#clip730)\" style=\"stroke:#000000; stroke-linecap:round; stroke-linejoin:round; stroke-width:4; stroke-opacity:1; fill:none\" points=\"140.696,510.916 159.593,510.916 \"/>\n",
       "<polyline clip-path=\"url(#clip730)\" style=\"stroke:#000000; stroke-linecap:round; stroke-linejoin:round; stroke-width:4; stroke-opacity:1; fill:none\" points=\"140.696,274.255 159.593,274.255 \"/>\n",
       "<path clip-path=\"url(#clip730)\" d=\"M92.7512 1443.36 Q89.1401 1443.36 87.3114 1446.93 Q85.5058 1450.47 85.5058 1457.6 Q85.5058 1464.7 87.3114 1468.27 Q89.1401 1471.81 92.7512 1471.81 Q96.3854 1471.81 98.1909 1468.27 Q100.02 1464.7 100.02 1457.6 Q100.02 1450.47 98.1909 1446.93 Q96.3854 1443.36 92.7512 1443.36 M92.7512 1439.66 Q98.5613 1439.66 101.617 1444.26 Q104.696 1448.85 104.696 1457.6 Q104.696 1466.32 101.617 1470.93 Q98.5613 1475.51 92.7512 1475.51 Q86.941 1475.51 83.8623 1470.93 Q80.8068 1466.32 80.8068 1457.6 Q80.8068 1448.85 83.8623 1444.26 Q86.941 1439.66 92.7512 1439.66 Z\" fill=\"#000000\" fill-rule=\"nonzero\" fill-opacity=\"1\" /><path clip-path=\"url(#clip730)\" d=\"M83.7929 1203.62 L102.149 1203.62 L102.149 1207.56 L88.0753 1207.56 L88.0753 1216.03 Q89.0938 1215.68 90.1123 1215.52 Q91.1308 1215.33 92.1493 1215.33 Q97.9363 1215.33 101.316 1218.51 Q104.696 1221.68 104.696 1227.09 Q104.696 1232.67 101.223 1235.77 Q97.7511 1238.85 91.4317 1238.85 Q89.2558 1238.85 86.9873 1238.48 Q84.7419 1238.11 82.3346 1237.37 L82.3346 1232.67 Q84.4179 1233.81 86.6401 1234.36 Q88.8623 1234.92 91.3391 1234.92 Q95.3437 1234.92 97.6817 1232.81 Q100.02 1230.7 100.02 1227.09 Q100.02 1223.48 97.6817 1221.38 Q95.3437 1219.27 91.3391 1219.27 Q89.4641 1219.27 87.5892 1219.69 Q85.7373 1220.1 83.7929 1220.98 L83.7929 1203.62 Z\" fill=\"#000000\" fill-rule=\"nonzero\" fill-opacity=\"1\" /><path clip-path=\"url(#clip730)\" d=\"M53.3995 997.584 L61.0384 997.584 L61.0384 971.219 L52.7282 972.886 L52.7282 968.626 L60.9921 966.96 L65.668 966.96 L65.668 997.584 L73.3068 997.584 L73.3068 1001.52 L53.3995 1001.52 L53.3995 997.584 Z\" fill=\"#000000\" fill-rule=\"nonzero\" fill-opacity=\"1\" /><path clip-path=\"url(#clip730)\" d=\"M92.7512 970.038 Q89.1401 970.038 87.3114 973.603 Q85.5058 977.145 85.5058 984.274 Q85.5058 991.381 87.3114 994.946 Q89.1401 998.487 92.7512 998.487 Q96.3854 998.487 98.1909 994.946 Q100.02 991.381 100.02 984.274 Q100.02 977.145 98.1909 973.603 Q96.3854 970.038 92.7512 970.038 M92.7512 966.335 Q98.5613 966.335 101.617 970.941 Q104.696 975.524 104.696 984.274 Q104.696 993.001 101.617 997.608 Q98.5613 1002.19 92.7512 1002.19 Q86.941 1002.19 83.8623 997.608 Q80.8068 993.001 80.8068 984.274 Q80.8068 975.524 83.8623 970.941 Q86.941 966.335 92.7512 966.335 Z\" fill=\"#000000\" fill-rule=\"nonzero\" fill-opacity=\"1\" /><path clip-path=\"url(#clip730)\" d=\"M54.3949 760.923 L62.0337 760.923 L62.0337 734.557 L53.7236 736.224 L53.7236 731.965 L61.9874 730.298 L66.6633 730.298 L66.6633 760.923 L74.3022 760.923 L74.3022 764.858 L54.3949 764.858 L54.3949 760.923 Z\" fill=\"#000000\" fill-rule=\"nonzero\" fill-opacity=\"1\" /><path clip-path=\"url(#clip730)\" d=\"M83.7929 730.298 L102.149 730.298 L102.149 734.233 L88.0753 734.233 L88.0753 742.705 Q89.0938 742.358 90.1123 742.196 Q91.1308 742.011 92.1493 742.011 Q97.9363 742.011 101.316 745.182 Q104.696 748.353 104.696 753.77 Q104.696 759.349 101.223 762.451 Q97.7511 765.529 91.4317 765.529 Q89.2558 765.529 86.9873 765.159 Q84.7419 764.788 82.3346 764.048 L82.3346 759.349 Q84.4179 760.483 86.6401 761.038 Q88.8623 761.594 91.3391 761.594 Q95.3437 761.594 97.6817 759.488 Q100.02 757.381 100.02 753.77 Q100.02 750.159 97.6817 748.052 Q95.3437 745.946 91.3391 745.946 Q89.4641 745.946 87.5892 746.363 Q85.7373 746.779 83.7929 747.659 L83.7929 730.298 Z\" fill=\"#000000\" fill-rule=\"nonzero\" fill-opacity=\"1\" /><path clip-path=\"url(#clip730)\" d=\"M56.6171 524.261 L72.9365 524.261 L72.9365 528.196 L50.9921 528.196 L50.9921 524.261 Q53.6541 521.506 58.2375 516.877 Q62.8439 512.224 64.0245 510.881 Q66.2698 508.358 67.1494 506.622 Q68.0522 504.863 68.0522 503.173 Q68.0522 500.419 66.1078 498.682 Q64.1865 496.946 61.0847 496.946 Q58.8856 496.946 56.4319 497.71 Q54.0014 498.474 51.2236 500.025 L51.2236 495.303 Q54.0477 494.169 56.5014 493.59 Q58.955 493.011 60.9921 493.011 Q66.3624 493.011 69.5568 495.696 Q72.7513 498.382 72.7513 502.872 Q72.7513 505.002 71.9411 506.923 Q71.1541 508.821 69.0476 511.414 Q68.4689 512.085 65.367 515.303 Q62.2652 518.497 56.6171 524.261 Z\" fill=\"#000000\" fill-rule=\"nonzero\" fill-opacity=\"1\" /><path clip-path=\"url(#clip730)\" d=\"M92.7512 496.715 Q89.1401 496.715 87.3114 500.28 Q85.5058 503.821 85.5058 510.951 Q85.5058 518.057 87.3114 521.622 Q89.1401 525.164 92.7512 525.164 Q96.3854 525.164 98.1909 521.622 Q100.02 518.057 100.02 510.951 Q100.02 503.821 98.1909 500.28 Q96.3854 496.715 92.7512 496.715 M92.7512 493.011 Q98.5613 493.011 101.617 497.618 Q104.696 502.201 104.696 510.951 Q104.696 519.678 101.617 524.284 Q98.5613 528.868 92.7512 528.868 Q86.941 528.868 83.8623 524.284 Q80.8068 519.678 80.8068 510.951 Q80.8068 502.201 83.8623 497.618 Q86.941 493.011 92.7512 493.011 Z\" fill=\"#000000\" fill-rule=\"nonzero\" fill-opacity=\"1\" /><path clip-path=\"url(#clip730)\" d=\"M57.6125 287.599 L73.9318 287.599 L73.9318 291.535 L51.9875 291.535 L51.9875 287.599 Q54.6495 284.845 59.2328 280.215 Q63.8393 275.562 65.0198 274.22 Q67.2652 271.697 68.1448 269.961 Q69.0476 268.201 69.0476 266.511 Q69.0476 263.757 67.1032 262.021 Q65.1819 260.285 62.08 260.285 Q59.881 260.285 57.4273 261.049 Q54.9967 261.812 52.219 263.363 L52.219 258.641 Q55.043 257.507 57.4967 256.928 Q59.9504 256.35 61.9874 256.35 Q67.3578 256.35 70.5522 259.035 Q73.7466 261.72 73.7466 266.211 Q73.7466 268.34 72.9365 270.261 Q72.1494 272.16 70.0429 274.752 Q69.4642 275.423 66.3624 278.641 Q63.2606 281.835 57.6125 287.599 Z\" fill=\"#000000\" fill-rule=\"nonzero\" fill-opacity=\"1\" /><path clip-path=\"url(#clip730)\" d=\"M83.7929 256.975 L102.149 256.975 L102.149 260.91 L88.0753 260.91 L88.0753 269.382 Q89.0938 269.035 90.1123 268.873 Q91.1308 268.687 92.1493 268.687 Q97.9363 268.687 101.316 271.859 Q104.696 275.03 104.696 280.447 Q104.696 286.025 101.223 289.127 Q97.7511 292.206 91.4317 292.206 Q89.2558 292.206 86.9873 291.835 Q84.7419 291.465 82.3346 290.724 L82.3346 286.025 Q84.4179 287.16 86.6401 287.715 Q88.8623 288.271 91.3391 288.271 Q95.3437 288.271 97.6817 286.164 Q100.02 284.058 100.02 280.447 Q100.02 276.836 97.6817 274.729 Q95.3437 272.623 91.3391 272.623 Q89.4641 272.623 87.5892 273.039 Q85.7373 273.456 83.7929 274.336 L83.7929 256.975 Z\" fill=\"#000000\" fill-rule=\"nonzero\" fill-opacity=\"1\" /><polyline clip-path=\"url(#clip732)\" style=\"stroke:#009af9; stroke-linecap:round; stroke-linejoin:round; stroke-width:4; stroke-opacity:1; fill:none\" points=\"203.301,1392.73 245.038,1379.81 286.775,1394.64 328.512,1445.72 370.249,1239.41 411.986,1138.85 453.723,1332.76 495.46,1173.68 537.197,1317.87 578.934,1398.64 620.671,87.9763 662.408,1289.1 704.145,1344.99 745.882,1350.61 787.619,1307.26 829.356,1402.28 871.093,1141.62 912.83,1278.95 954.567,1191.88 996.304,1351.17 1038.04,1298.8 1079.78,1393.92 1121.51,1300.8 1163.25,1307.61 1204.99,1410.97 1246.73,1377.53 1288.46,1233.46 1330.2,1159.75 1371.94,1320.02 1413.67,1251.29 1455.41,1315.85 1497.15,1398.27 1538.88,1414.63 1580.62,1348.02 1622.36,1324.15 1664.1,898.436 1705.83,1217.95 1747.57,1248.25 1789.31,1216.11 1831.04,1268.32 1872.78,1355.93 1914.52,1107.49 1956.25,1117.21 1997.99,1228.48 2039.73,1321.11 2081.47,1324.95 2123.2,1251.93 2164.94,1289.08 2206.68,1360.29 2248.41,1338.36 2290.15,1176.43 \"/>\n",
       "<path clip-path=\"url(#clip730)\" d=\"M2005.38 198.898 L2279.02 198.898 L2279.02 95.2176 L2005.38 95.2176  Z\" fill=\"#ffffff\" fill-rule=\"evenodd\" fill-opacity=\"1\"/>\n",
       "<polyline clip-path=\"url(#clip730)\" style=\"stroke:#000000; stroke-linecap:round; stroke-linejoin:round; stroke-width:4; stroke-opacity:1; fill:none\" points=\"2005.38,198.898 2279.02,198.898 2279.02,95.2176 2005.38,95.2176 2005.38,198.898 \"/>\n",
       "<polyline clip-path=\"url(#clip730)\" style=\"stroke:#009af9; stroke-linecap:round; stroke-linejoin:round; stroke-width:4; stroke-opacity:1; fill:none\" points=\"2029.96,147.058 2177.43,147.058 \"/>\n",
       "<path clip-path=\"url(#clip730)\" d=\"M2215.85 166.745 Q2214.05 171.375 2212.34 172.787 Q2210.62 174.199 2207.75 174.199 L2204.35 174.199 L2204.35 170.634 L2206.85 170.634 Q2208.61 170.634 2209.58 169.8 Q2210.55 168.967 2211.73 165.865 L2212.5 163.921 L2202.01 138.412 L2206.53 138.412 L2214.63 158.689 L2222.73 138.412 L2227.24 138.412 L2215.85 166.745 Z\" fill=\"#000000\" fill-rule=\"nonzero\" fill-opacity=\"1\" /><path clip-path=\"url(#clip730)\" d=\"M2234.53 160.402 L2242.17 160.402 L2242.17 134.037 L2233.86 135.703 L2233.86 131.444 L2242.13 129.778 L2246.8 129.778 L2246.8 160.402 L2254.44 160.402 L2254.44 164.338 L2234.53 164.338 L2234.53 160.402 Z\" fill=\"#000000\" fill-rule=\"nonzero\" fill-opacity=\"1\" /></svg>\n"
      ]
     },
     "metadata": {},
     "output_type": "display_data"
    }
   ],
   "source": [
    "plot(grange, F)"
   ]
  },
  {
   "cell_type": "code",
   "execution_count": 12,
   "metadata": {},
   "outputs": [
    {
     "data": {
      "text/plain": [
       "true"
      ]
     },
     "metadata": {},
     "output_type": "display_data"
    }
   ],
   "source": []
  },
  {
   "cell_type": "code",
   "execution_count": 427,
   "metadata": {},
   "outputs": [
    {
     "data": {
      "text/plain": [
       "2.220446049250313e-16"
      ]
     },
     "metadata": {},
     "output_type": "display_data"
    }
   ],
   "source": [
    "real(vId*vρ1)"
   ]
  },
  {
   "cell_type": "markdown",
   "metadata": {},
   "source": [
    "# Bosonic QHE"
   ]
  },
  {
   "cell_type": "code",
   "execution_count": 44,
   "metadata": {},
   "outputs": [],
   "source": [
    "# Analytic expression I1 and I2  \n",
    "function I1_bosonic_check(κ, g, nh, nc)\n",
    "    2g^2*κ*(nh - nc)/(4g^2 + κ^2) \n",
    " end    \n",
    "     \n",
    " function I2_bosonic_check(κ, g, nh, nc)\n",
    "     nT = nh + nc\n",
    "     Δn = nh - nc\n",
    "     I2 = (nT^2 + 2nT)*g^2*κ/(4g^2 + κ^2) + Δn^2*g^2*κ^3*(12g^2)/(4g^2 + κ^2)^3\n",
    "     return I2\n",
    " end\n",
    "\n",
    "\n",
    "b_fock = FockBasis(7)\n",
    "ah = destroy(b_fock)⊗one(b_fock)\n",
    "ahd = dagger(ah)\n",
    "ac = one(b_fock)⊗destroy(b_fock)\n",
    "acd = dagger(ac)\n",
    "\n",
    "g = 1.0\n",
    "κ = 1.0\n",
    "nbh = 0.4\n",
    "nbc = 0.0\n",
    "H =  g*(ahd*ac + acd*ah)\n",
    "J = [√(κ*(nbh+1))*ah, √(κ*(nbc+1))*ac, √(κ*nbh)*ahd, √(κ*nbc)*acd]\n",
    "mJ = [J[2], J[4]]\n",
    "ρss = steadystate.iterative(H, J);\n",
    "\n"
   ]
  },
  {
   "cell_type": "code",
   "execution_count": 45,
   "metadata": {},
   "outputs": [
    {
     "name": "stdout",
     "output_type": "stream",
     "text": [
      "|_________Drazin________|\n",
      "[0.1599821123988871, 0.20594109817465495]\n",
      "|_______Drazin_apply_____|\n",
      "[0.1599821123988871, 0.16375532418584665]\n",
      "|________Analytic________|\n",
      "[0.16 0.20736000000000002]\n"
     ]
    }
   ],
   "source": [
    "ncum = 2\n",
    " K_apply = cumulants_recursive(H, J, mJ, ncum, ρss, :true)\n",
    " K = cumulants_recursive(H, J, mJ, ncum, ρss)\n",
    "println(\"|_________Drazin________|\")\n",
    "println(K)\n",
    "println(\"|_______Drazin_apply_____|\")\n",
    "println(K_apply)\n",
    "I1_analytic = I1_bosonic_check(κ, g, nbh, nbc) \n",
    "I2_analytic = I2_bosonic_check(κ, g, nbh, nbc)\n",
    "println(\"|________Analytic________|\")\n",
    "println([I1_analytic I2_analytic])"
   ]
  },
  {
   "cell_type": "code",
   "execution_count": 5,
   "metadata": {},
   "outputs": [
    {
     "name": "stdout",
     "output_type": "stream",
     "text": [
      "0.225\n",
      "0.5021875\n"
     ]
    }
   ],
   "source": [
    "I1_analytic = I1_bosonic_check(κ, g, nbh, nbc) \n",
    "I2_analytic = I2_bosonic_check(κ, g, nbh, nbc)\n",
    "\n",
    "println(I1_analytic)\n",
    "println(I2_analytic)"
   ]
  },
  {
   "cell_type": "code",
   "execution_count": null,
   "metadata": {},
   "outputs": [],
   "source": []
  },
  {
   "cell_type": "code",
   "execution_count": 15,
   "metadata": {},
   "outputs": [],
   "source": [
    "\n",
    "grange = [0.0:0.1:5.;]\n",
    "F = zeros(length(grange))\n",
    "for i=1:length(grange)\n",
    "    g = grange[i]\n",
    "    H =  g*(ahd*ac + acd*ah)\n",
    "    J = [√(κ*(nbh+1))*ah, √(κ*(nbc+1))*ac, √(κ*nbh)*ahd, √(κ*nbc)*acd]\n",
    "    mJ = [J[2], J[4]]\n",
    "    ρss = steadystate.iterative(H, J);\n",
    "    I1, I2 = cumulants_recursive(H, J, J, 2, ρss, :true)\n",
    "    F[i] = abs(I2/I1)\n",
    "end"
   ]
  },
  {
   "cell_type": "code",
   "execution_count": 16,
   "metadata": {},
   "outputs": [
    {
     "data": {
      "image/png": "[encoded data removed]",
      "image/svg+xml": [
       "<?xml version=\"1.0\" encoding=\"utf-8\"?>\n",
       "<svg xmlns=\"http://www.w3.org/2000/svg\" xmlns:xlink=\"http://www.w3.org/1999/xlink\" width=\"600\" height=\"400\" viewBox=\"0 0 2400 1600\">\n",
       "<defs>\n",
       "  <clipPath id=\"clip190\">\n",
       "    <rect x=\"0\" y=\"0\" width=\"2400\" height=\"1600\"/>\n",
       "  </clipPath>\n",
       "</defs>\n",
       "<path clip-path=\"url(#clip190)\" d=\"M0 1600 L2400 1600 L2400 0 L0 0  Z\" fill=\"#ffffff\" fill-rule=\"evenodd\" fill-opacity=\"1\"/>\n",
       "<defs>\n",
       "  <clipPath id=\"clip191\">\n",
       "    <rect x=\"480\" y=\"0\" width=\"1681\" height=\"1600\"/>\n",
       "  </clipPath>\n",
       "</defs>\n",
       "<path clip-path=\"url(#clip190)\" d=\"M298.195 1486.45 L2352.76 1486.45 L2352.76 47.2441 L298.195 47.2441  Z\" fill=\"#ffffff\" fill-rule=\"evenodd\" fill-opacity=\"1\"/>\n",
       "<defs>\n",
       "  <clipPath id=\"clip192\">\n",
       "    <rect x=\"298\" y=\"47\" width=\"2056\" height=\"1440\"/>\n",
       "  </clipPath>\n",
       "</defs>\n",
       "<polyline clip-path=\"url(#clip192)\" style=\"stroke:#000000; stroke-linecap:round; stroke-linejoin:round; stroke-width:2; stroke-opacity:0.1; fill:none\" points=\"356.343,1486.45 356.343,47.2441 \"/>\n",
       "<polyline clip-path=\"url(#clip192)\" style=\"stroke:#000000; stroke-linecap:round; stroke-linejoin:round; stroke-width:2; stroke-opacity:0.1; fill:none\" points=\"743.996,1486.45 743.996,47.2441 \"/>\n",
       "<polyline clip-path=\"url(#clip192)\" style=\"stroke:#000000; stroke-linecap:round; stroke-linejoin:round; stroke-width:2; stroke-opacity:0.1; fill:none\" points=\"1131.65,1486.45 1131.65,47.2441 \"/>\n",
       "<polyline clip-path=\"url(#clip192)\" style=\"stroke:#000000; stroke-linecap:round; stroke-linejoin:round; stroke-width:2; stroke-opacity:0.1; fill:none\" points=\"1519.3,1486.45 1519.3,47.2441 \"/>\n",
       "<polyline clip-path=\"url(#clip192)\" style=\"stroke:#000000; stroke-linecap:round; stroke-linejoin:round; stroke-width:2; stroke-opacity:0.1; fill:none\" points=\"1906.95,1486.45 1906.95,47.2441 \"/>\n",
       "<polyline clip-path=\"url(#clip192)\" style=\"stroke:#000000; stroke-linecap:round; stroke-linejoin:round; stroke-width:2; stroke-opacity:0.1; fill:none\" points=\"2294.61,1486.45 2294.61,47.2441 \"/>\n",
       "<polyline clip-path=\"url(#clip190)\" style=\"stroke:#000000; stroke-linecap:round; stroke-linejoin:round; stroke-width:4; stroke-opacity:1; fill:none\" points=\"298.195,1486.45 2352.76,1486.45 \"/>\n",
       "<polyline clip-path=\"url(#clip190)\" style=\"stroke:#000000; stroke-linecap:round; stroke-linejoin:round; stroke-width:4; stroke-opacity:1; fill:none\" points=\"356.343,1486.45 356.343,1467.55 \"/>\n",
       "<polyline clip-path=\"url(#clip190)\" style=\"stroke:#000000; stroke-linecap:round; stroke-linejoin:round; stroke-width:4; stroke-opacity:1; fill:none\" points=\"743.996,1486.45 743.996,1467.55 \"/>\n",
       "<polyline clip-path=\"url(#clip190)\" style=\"stroke:#000000; stroke-linecap:round; stroke-linejoin:round; stroke-width:4; stroke-opacity:1; fill:none\" points=\"1131.65,1486.45 1131.65,1467.55 \"/>\n",
       "<polyline clip-path=\"url(#clip190)\" style=\"stroke:#000000; stroke-linecap:round; stroke-linejoin:round; stroke-width:4; stroke-opacity:1; fill:none\" points=\"1519.3,1486.45 1519.3,1467.55 \"/>\n",
       "<polyline clip-path=\"url(#clip190)\" style=\"stroke:#000000; stroke-linecap:round; stroke-linejoin:round; stroke-width:4; stroke-opacity:1; fill:none\" points=\"1906.95,1486.45 1906.95,1467.55 \"/>\n",
       "<polyline clip-path=\"url(#clip190)\" style=\"stroke:#000000; stroke-linecap:round; stroke-linejoin:round; stroke-width:4; stroke-opacity:1; fill:none\" points=\"2294.61,1486.45 2294.61,1467.55 \"/>\n",
       "<path clip-path=\"url(#clip190)\" d=\"M356.343 1517.37 Q352.732 1517.37 350.903 1520.93 Q349.097 1524.47 349.097 1531.6 Q349.097 1538.71 350.903 1542.27 Q352.732 1545.82 356.343 1545.82 Q359.977 1545.82 361.782 1542.27 Q363.611 1538.71 363.611 1531.6 Q363.611 1524.47 361.782 1520.93 Q359.977 1517.37 356.343 1517.37 M356.343 1513.66 Q362.153 1513.66 365.208 1518.27 Q368.287 1522.85 368.287 1531.6 Q368.287 1540.33 365.208 1544.94 Q362.153 1549.52 356.343 1549.52 Q350.533 1549.52 347.454 1544.94 Q344.398 1540.33 344.398 1531.6 Q344.398 1522.85 347.454 1518.27 Q350.533 1513.66 356.343 1513.66 Z\" fill=\"#000000\" fill-rule=\"nonzero\" fill-opacity=\"1\" /><path clip-path=\"url(#clip190)\" d=\"M734.378 1544.91 L742.017 1544.91 L742.017 1518.55 L733.706 1520.21 L733.706 1515.95 L741.97 1514.29 L746.646 1514.29 L746.646 1544.91 L754.285 1544.91 L754.285 1548.85 L734.378 1548.85 L734.378 1544.91 Z\" fill=\"#000000\" fill-rule=\"nonzero\" fill-opacity=\"1\" /><path clip-path=\"url(#clip190)\" d=\"M1126.3 1544.91 L1142.62 1544.91 L1142.62 1548.85 L1120.68 1548.85 L1120.68 1544.91 Q1123.34 1542.16 1127.92 1537.53 Q1132.53 1532.88 1133.71 1531.53 Q1135.95 1529.01 1136.83 1527.27 Q1137.74 1525.51 1137.74 1523.82 Q1137.74 1521.07 1135.79 1519.33 Q1133.87 1517.6 1130.77 1517.6 Q1128.57 1517.6 1126.12 1518.36 Q1123.69 1519.13 1120.91 1520.68 L1120.91 1515.95 Q1123.73 1514.82 1126.19 1514.24 Q1128.64 1513.66 1130.68 1513.66 Q1136.05 1513.66 1139.24 1516.35 Q1142.44 1519.03 1142.44 1523.52 Q1142.44 1525.65 1141.63 1527.57 Q1140.84 1529.47 1138.73 1532.07 Q1138.15 1532.74 1135.05 1535.95 Q1131.95 1539.15 1126.3 1544.91 Z\" fill=\"#000000\" fill-rule=\"nonzero\" fill-opacity=\"1\" /><path clip-path=\"url(#clip190)\" d=\"M1523.55 1530.21 Q1526.91 1530.93 1528.78 1533.2 Q1530.68 1535.47 1530.68 1538.8 Q1530.68 1543.92 1527.16 1546.72 Q1523.64 1549.52 1517.16 1549.52 Q1514.98 1549.52 1512.67 1549.08 Q1510.38 1548.66 1507.92 1547.81 L1507.92 1543.29 Q1509.87 1544.43 1512.18 1545.01 Q1514.5 1545.58 1517.02 1545.58 Q1521.42 1545.58 1523.71 1543.85 Q1526.03 1542.11 1526.03 1538.8 Q1526.03 1535.75 1523.87 1534.03 Q1521.74 1532.3 1517.92 1532.3 L1513.9 1532.3 L1513.9 1528.45 L1518.11 1528.45 Q1521.56 1528.45 1523.39 1527.09 Q1525.22 1525.7 1525.22 1523.11 Q1525.22 1520.45 1523.32 1519.03 Q1521.44 1517.6 1517.92 1517.6 Q1516 1517.6 1513.8 1518.01 Q1511.61 1518.43 1508.97 1519.31 L1508.97 1515.14 Q1511.63 1514.4 1513.94 1514.03 Q1516.28 1513.66 1518.34 1513.66 Q1523.67 1513.66 1526.77 1516.09 Q1529.87 1518.5 1529.87 1522.62 Q1529.87 1525.49 1528.23 1527.48 Q1526.58 1529.45 1523.55 1530.21 Z\" fill=\"#000000\" fill-rule=\"nonzero\" fill-opacity=\"1\" /><path clip-path=\"url(#clip190)\" d=\"M1909.96 1518.36 L1898.16 1536.81 L1909.96 1536.81 L1909.96 1518.36 M1908.74 1514.29 L1914.62 1514.29 L1914.62 1536.81 L1919.55 1536.81 L1919.55 1540.7 L1914.62 1540.7 L1914.62 1548.85 L1909.96 1548.85 L1909.96 1540.7 L1894.36 1540.7 L1894.36 1536.19 L1908.74 1514.29 Z\" fill=\"#000000\" fill-rule=\"nonzero\" fill-opacity=\"1\" /><path clip-path=\"url(#clip190)\" d=\"M2284.89 1514.29 L2303.24 1514.29 L2303.24 1518.22 L2289.17 1518.22 L2289.17 1526.7 Q2290.19 1526.35 2291.21 1526.19 Q2292.22 1526 2293.24 1526 Q2299.03 1526 2302.41 1529.17 Q2305.79 1532.34 2305.79 1537.76 Q2305.79 1543.34 2302.32 1546.44 Q2298.84 1549.52 2292.52 1549.52 Q2290.35 1549.52 2288.08 1549.15 Q2285.83 1548.78 2283.43 1548.04 L2283.43 1543.34 Q2285.51 1544.47 2287.73 1545.03 Q2289.96 1545.58 2292.43 1545.58 Q2296.44 1545.58 2298.77 1543.48 Q2301.11 1541.37 2301.11 1537.76 Q2301.11 1534.15 2298.77 1532.04 Q2296.44 1529.94 2292.43 1529.94 Q2290.56 1529.94 2288.68 1530.35 Q2286.83 1530.77 2284.89 1531.65 L2284.89 1514.29 Z\" fill=\"#000000\" fill-rule=\"nonzero\" fill-opacity=\"1\" /><polyline clip-path=\"url(#clip192)\" style=\"stroke:#000000; stroke-linecap:round; stroke-linejoin:round; stroke-width:2; stroke-opacity:0.1; fill:none\" points=\"298.195,1445.76 2352.76,1445.76 \"/>\n",
       "<polyline clip-path=\"url(#clip192)\" style=\"stroke:#000000; stroke-linecap:round; stroke-linejoin:round; stroke-width:2; stroke-opacity:0.1; fill:none\" points=\"298.195,1070.63 2352.76,1070.63 \"/>\n",
       "<polyline clip-path=\"url(#clip192)\" style=\"stroke:#000000; stroke-linecap:round; stroke-linejoin:round; stroke-width:2; stroke-opacity:0.1; fill:none\" points=\"298.195,695.489 2352.76,695.489 \"/>\n",
       "<polyline clip-path=\"url(#clip192)\" style=\"stroke:#000000; stroke-linecap:round; stroke-linejoin:round; stroke-width:2; stroke-opacity:0.1; fill:none\" points=\"298.195,320.352 2352.76,320.352 \"/>\n",
       "<polyline clip-path=\"url(#clip190)\" style=\"stroke:#000000; stroke-linecap:round; stroke-linejoin:round; stroke-width:4; stroke-opacity:1; fill:none\" points=\"298.195,1486.45 298.195,47.2441 \"/>\n",
       "<polyline clip-path=\"url(#clip190)\" style=\"stroke:#000000; stroke-linecap:round; stroke-linejoin:round; stroke-width:4; stroke-opacity:1; fill:none\" points=\"298.195,1445.76 317.092,1445.76 \"/>\n",
       "<polyline clip-path=\"url(#clip190)\" style=\"stroke:#000000; stroke-linecap:round; stroke-linejoin:round; stroke-width:4; stroke-opacity:1; fill:none\" points=\"298.195,1070.63 317.092,1070.63 \"/>\n",
       "<polyline clip-path=\"url(#clip190)\" style=\"stroke:#000000; stroke-linecap:round; stroke-linejoin:round; stroke-width:4; stroke-opacity:1; fill:none\" points=\"298.195,695.489 317.092,695.489 \"/>\n",
       "<polyline clip-path=\"url(#clip190)\" style=\"stroke:#000000; stroke-linecap:round; stroke-linejoin:round; stroke-width:4; stroke-opacity:1; fill:none\" points=\"298.195,320.352 317.092,320.352 \"/>\n",
       "<path clip-path=\"url(#clip190)\" d=\"M250.25 1431.56 Q246.639 1431.56 244.811 1435.13 Q243.005 1438.67 243.005 1445.8 Q243.005 1452.91 244.811 1456.47 Q246.639 1460.01 250.25 1460.01 Q253.885 1460.01 255.69 1456.47 Q257.519 1452.91 257.519 1445.8 Q257.519 1438.67 255.69 1435.13 Q253.885 1431.56 250.25 1431.56 M250.25 1427.86 Q256.06 1427.86 259.116 1432.47 Q262.195 1437.05 262.195 1445.8 Q262.195 1454.53 259.116 1459.13 Q256.06 1463.72 250.25 1463.72 Q244.44 1463.72 241.361 1459.13 Q238.306 1454.53 238.306 1445.8 Q238.306 1437.05 241.361 1432.47 Q244.44 1427.86 250.25 1427.86 Z\" fill=\"#000000\" fill-rule=\"nonzero\" fill-opacity=\"1\" /><path clip-path=\"url(#clip190)\" d=\"M57.7745 1090.42 L74.0939 1090.42 L74.0939 1094.35 L52.1495 1094.35 L52.1495 1090.42 Q54.8115 1087.66 59.3949 1083.04 Q64.0013 1078.38 65.1819 1077.04 Q67.4272 1074.52 68.3068 1072.78 Q69.2096 1071.02 69.2096 1069.33 Q69.2096 1066.58 67.2652 1064.84 Q65.3439 1063.1 62.2421 1063.1 Q60.043 1063.1 57.5893 1063.87 Q55.1588 1064.63 52.381 1066.18 L52.381 1061.46 Q55.2051 1060.33 57.6588 1059.75 Q60.1124 1059.17 62.1495 1059.17 Q67.5198 1059.17 70.7142 1061.85 Q73.9087 1064.54 73.9087 1069.03 Q73.9087 1071.16 73.0985 1073.08 Q72.3115 1074.98 70.205 1077.57 Q69.6263 1078.24 66.5245 1081.46 Q63.4226 1084.66 57.7745 1090.42 Z\" fill=\"#000000\" fill-rule=\"nonzero\" fill-opacity=\"1\" /><path clip-path=\"url(#clip190)\" d=\"M83.9086 1088.48 L88.7928 1088.48 L88.7928 1094.35 L83.9086 1094.35 L83.9086 1088.48 Z\" fill=\"#000000\" fill-rule=\"nonzero\" fill-opacity=\"1\" /><path clip-path=\"url(#clip190)\" d=\"M108.978 1062.87 Q105.367 1062.87 103.538 1066.44 Q101.733 1069.98 101.733 1077.11 Q101.733 1084.22 103.538 1087.78 Q105.367 1091.32 108.978 1091.32 Q112.612 1091.32 114.418 1087.78 Q116.246 1084.22 116.246 1077.11 Q116.246 1069.98 114.418 1066.44 Q112.612 1062.87 108.978 1062.87 M108.978 1059.17 Q114.788 1059.17 117.844 1063.78 Q120.922 1068.36 120.922 1077.11 Q120.922 1085.84 117.844 1090.44 Q114.788 1095.03 108.978 1095.03 Q103.168 1095.03 100.089 1090.44 Q97.0335 1085.84 97.0335 1077.11 Q97.0335 1068.36 100.089 1063.78 Q103.168 1059.17 108.978 1059.17 Z\" fill=\"#000000\" fill-rule=\"nonzero\" fill-opacity=\"1\" /><path clip-path=\"url(#clip190)\" d=\"M157.311 1068.89 L146.732 1079.52 L157.311 1090.1 L154.556 1092.9 L143.931 1082.27 L133.306 1092.9 L130.575 1090.1 L141.131 1079.52 L130.575 1068.89 L133.306 1066.09 L143.931 1076.72 L154.556 1066.09 L157.311 1068.89 Z\" fill=\"#000000\" fill-rule=\"nonzero\" fill-opacity=\"1\" /><path clip-path=\"url(#clip190)\" d=\"M169.672 1090.42 L177.311 1090.42 L177.311 1064.05 L169.001 1065.72 L169.001 1061.46 L177.265 1059.79 L181.94 1059.79 L181.94 1090.42 L189.579 1090.42 L189.579 1094.35 L169.672 1094.35 L169.672 1090.42 Z\" fill=\"#000000\" fill-rule=\"nonzero\" fill-opacity=\"1\" /><path clip-path=\"url(#clip190)\" d=\"M209.024 1062.87 Q205.413 1062.87 203.584 1066.44 Q201.778 1069.98 201.778 1077.11 Q201.778 1084.22 203.584 1087.78 Q205.413 1091.32 209.024 1091.32 Q212.658 1091.32 214.463 1087.78 Q216.292 1084.22 216.292 1077.11 Q216.292 1069.98 214.463 1066.44 Q212.658 1062.87 209.024 1062.87 M209.024 1059.17 Q214.834 1059.17 217.889 1063.78 Q220.968 1068.36 220.968 1077.11 Q220.968 1085.84 217.889 1090.44 Q214.834 1095.03 209.024 1095.03 Q203.214 1095.03 200.135 1090.44 Q197.079 1085.84 197.079 1077.11 Q197.079 1068.36 200.135 1063.78 Q203.214 1059.17 209.024 1059.17 Z\" fill=\"#000000\" fill-rule=\"nonzero\" fill-opacity=\"1\" /><path clip-path=\"url(#clip190)\" d=\"M221.513 1063.75 L227.72 1063.75 L227.72 1042.32 L220.968 1043.68 L220.968 1040.22 L227.682 1038.86 L231.482 1038.86 L231.482 1063.75 L237.688 1063.75 L237.688 1066.94 L221.513 1066.94 L221.513 1063.75 Z\" fill=\"#000000\" fill-rule=\"nonzero\" fill-opacity=\"1\" /><path clip-path=\"url(#clip190)\" d=\"M246.02 1063.75 L252.227 1063.75 L252.227 1042.32 L245.475 1043.68 L245.475 1040.22 L252.189 1038.86 L255.988 1038.86 L255.988 1063.75 L262.195 1063.75 L262.195 1066.94 L246.02 1066.94 L246.02 1063.75 Z\" fill=\"#000000\" fill-rule=\"nonzero\" fill-opacity=\"1\" /><path clip-path=\"url(#clip190)\" d=\"M66.5939 688.731 L54.7884 707.18 L66.5939 707.18 L66.5939 688.731 M65.367 684.657 L71.2466 684.657 L71.2466 707.18 L76.1772 707.18 L76.1772 711.069 L71.2466 711.069 L71.2466 719.217 L66.5939 719.217 L66.5939 711.069 L50.9921 711.069 L50.9921 706.555 L65.367 684.657 Z\" fill=\"#000000\" fill-rule=\"nonzero\" fill-opacity=\"1\" /><path clip-path=\"url(#clip190)\" d=\"M83.9086 713.337 L88.7928 713.337 L88.7928 719.217 L83.9086 719.217 L83.9086 713.337 Z\" fill=\"#000000\" fill-rule=\"nonzero\" fill-opacity=\"1\" /><path clip-path=\"url(#clip190)\" d=\"M108.978 687.736 Q105.367 687.736 103.538 691.3 Q101.733 694.842 101.733 701.972 Q101.733 709.078 103.538 712.643 Q105.367 716.185 108.978 716.185 Q112.612 716.185 114.418 712.643 Q116.246 709.078 116.246 701.972 Q116.246 694.842 114.418 691.3 Q112.612 687.736 108.978 687.736 M108.978 684.032 Q114.788 684.032 117.844 688.638 Q120.922 693.222 120.922 701.972 Q120.922 710.698 117.844 715.305 Q114.788 719.888 108.978 719.888 Q103.168 719.888 100.089 715.305 Q97.0335 710.698 97.0335 701.972 Q97.0335 693.222 100.089 688.638 Q103.168 684.032 108.978 684.032 Z\" fill=\"#000000\" fill-rule=\"nonzero\" fill-opacity=\"1\" /><path clip-path=\"url(#clip190)\" d=\"M157.311 693.754 L146.732 704.379 L157.311 714.958 L154.556 717.759 L143.931 707.134 L133.306 717.759 L130.575 714.958 L141.131 704.379 L130.575 693.754 L133.306 690.953 L143.931 701.578 L154.556 690.953 L157.311 693.754 Z\" fill=\"#000000\" fill-rule=\"nonzero\" fill-opacity=\"1\" /><path clip-path=\"url(#clip190)\" d=\"M169.672 715.282 L177.311 715.282 L177.311 688.916 L169.001 690.583 L169.001 686.324 L177.265 684.657 L181.94 684.657 L181.94 715.282 L189.579 715.282 L189.579 719.217 L169.672 719.217 L169.672 715.282 Z\" fill=\"#000000\" fill-rule=\"nonzero\" fill-opacity=\"1\" /><path clip-path=\"url(#clip190)\" d=\"M209.024 687.736 Q205.413 687.736 203.584 691.3 Q201.778 694.842 201.778 701.972 Q201.778 709.078 203.584 712.643 Q205.413 716.185 209.024 716.185 Q212.658 716.185 214.463 712.643 Q216.292 709.078 216.292 701.972 Q216.292 694.842 214.463 691.3 Q212.658 687.736 209.024 687.736 M209.024 684.032 Q214.834 684.032 217.889 688.638 Q220.968 693.222 220.968 701.972 Q220.968 710.698 217.889 715.305 Q214.834 719.888 209.024 719.888 Q203.214 719.888 200.135 715.305 Q197.079 710.698 197.079 701.972 Q197.079 693.222 200.135 688.638 Q203.214 684.032 209.024 684.032 Z\" fill=\"#000000\" fill-rule=\"nonzero\" fill-opacity=\"1\" /><path clip-path=\"url(#clip190)\" d=\"M221.513 688.609 L227.72 688.609 L227.72 667.187 L220.968 668.541 L220.968 665.081 L227.682 663.727 L231.482 663.727 L231.482 688.609 L237.688 688.609 L237.688 691.807 L221.513 691.807 L221.513 688.609 Z\" fill=\"#000000\" fill-rule=\"nonzero\" fill-opacity=\"1\" /><path clip-path=\"url(#clip190)\" d=\"M246.02 688.609 L252.227 688.609 L252.227 667.187 L245.475 668.541 L245.475 665.081 L252.189 663.727 L255.988 663.727 L255.988 688.609 L262.195 688.609 L262.195 691.807 L246.02 691.807 L246.02 688.609 Z\" fill=\"#000000\" fill-rule=\"nonzero\" fill-opacity=\"1\" /><path clip-path=\"url(#clip190)\" d=\"M64.3254 324.936 Q61.1773 324.936 59.3254 327.089 Q57.4967 329.241 57.4967 332.991 Q57.4967 336.718 59.3254 338.894 Q61.1773 341.047 64.3254 341.047 Q67.4735 341.047 69.3022 338.894 Q71.1541 336.718 71.1541 332.991 Q71.1541 329.241 69.3022 327.089 Q67.4735 324.936 64.3254 324.936 M73.6077 310.283 L73.6077 314.542 Q71.8485 313.709 70.0429 313.269 Q68.2606 312.829 66.5013 312.829 Q61.8717 312.829 59.418 315.954 Q56.9875 319.079 56.6402 325.399 Q58.006 323.385 60.0662 322.32 Q62.1263 321.232 64.6032 321.232 Q69.8115 321.232 72.8207 324.403 Q75.8531 327.551 75.8531 332.991 Q75.8531 338.315 72.705 341.533 Q69.5568 344.75 64.3254 344.75 Q58.33 344.75 55.1588 340.167 Q51.9875 335.561 51.9875 326.834 Q51.9875 318.64 55.8764 313.778 Q59.7652 308.894 66.3161 308.894 Q68.0754 308.894 69.8578 309.241 Q71.6633 309.589 73.6077 310.283 Z\" fill=\"#000000\" fill-rule=\"nonzero\" fill-opacity=\"1\" /><path clip-path=\"url(#clip190)\" d=\"M83.9086 338.2 L88.7928 338.2 L88.7928 344.079 L83.9086 344.079 L83.9086 338.2 Z\" fill=\"#000000\" fill-rule=\"nonzero\" fill-opacity=\"1\" /><path clip-path=\"url(#clip190)\" d=\"M108.978 312.598 Q105.367 312.598 103.538 316.163 Q101.733 319.704 101.733 326.834 Q101.733 333.94 103.538 337.505 Q105.367 341.047 108.978 341.047 Q112.612 341.047 114.418 337.505 Q116.246 333.94 116.246 326.834 Q116.246 319.704 114.418 316.163 Q112.612 312.598 108.978 312.598 M108.978 308.894 Q114.788 308.894 117.844 313.501 Q120.922 318.084 120.922 326.834 Q120.922 335.561 117.844 340.167 Q114.788 344.75 108.978 344.75 Q103.168 344.75 100.089 340.167 Q97.0335 335.561 97.0335 326.834 Q97.0335 318.084 100.089 313.501 Q103.168 308.894 108.978 308.894 Z\" fill=\"#000000\" fill-rule=\"nonzero\" fill-opacity=\"1\" /><path clip-path=\"url(#clip190)\" d=\"M157.311 318.616 L146.732 329.241 L157.311 339.82 L154.556 342.621 L143.931 331.996 L133.306 342.621 L130.575 339.82 L141.131 329.241 L130.575 318.616 L133.306 315.815 L143.931 326.44 L154.556 315.815 L157.311 318.616 Z\" fill=\"#000000\" fill-rule=\"nonzero\" fill-opacity=\"1\" /><path clip-path=\"url(#clip190)\" d=\"M169.672 340.144 L177.311 340.144 L177.311 313.778 L169.001 315.445 L169.001 311.186 L177.265 309.519 L181.94 309.519 L181.94 340.144 L189.579 340.144 L189.579 344.079 L169.672 344.079 L169.672 340.144 Z\" fill=\"#000000\" fill-rule=\"nonzero\" fill-opacity=\"1\" /><path clip-path=\"url(#clip190)\" d=\"M209.024 312.598 Q205.413 312.598 203.584 316.163 Q201.778 319.704 201.778 326.834 Q201.778 333.94 203.584 337.505 Q205.413 341.047 209.024 341.047 Q212.658 341.047 214.463 337.505 Q216.292 333.94 216.292 326.834 Q216.292 319.704 214.463 316.163 Q212.658 312.598 209.024 312.598 M209.024 308.894 Q214.834 308.894 217.889 313.501 Q220.968 318.084 220.968 326.834 Q220.968 335.561 217.889 340.167 Q214.834 344.75 209.024 344.75 Q203.214 344.75 200.135 340.167 Q197.079 335.561 197.079 326.834 Q197.079 318.084 200.135 313.501 Q203.214 308.894 209.024 308.894 Z\" fill=\"#000000\" fill-rule=\"nonzero\" fill-opacity=\"1\" /><path clip-path=\"url(#clip190)\" d=\"M221.513 313.471 L227.72 313.471 L227.72 292.049 L220.968 293.404 L220.968 289.943 L227.682 288.589 L231.482 288.589 L231.482 313.471 L237.688 313.471 L237.688 316.669 L221.513 316.669 L221.513 313.471 Z\" fill=\"#000000\" fill-rule=\"nonzero\" fill-opacity=\"1\" /><path clip-path=\"url(#clip190)\" d=\"M246.02 313.471 L252.227 313.471 L252.227 292.049 L245.475 293.404 L245.475 289.943 L252.189 288.589 L255.988 288.589 L255.988 313.471 L262.195 313.471 L262.195 316.669 L246.02 316.669 L246.02 313.471 Z\" fill=\"#000000\" fill-rule=\"nonzero\" fill-opacity=\"1\" /><polyline clip-path=\"url(#clip192)\" style=\"stroke:#009af9; stroke-linecap:round; stroke-linejoin:round; stroke-width:12; stroke-opacity:1; fill:none\" points=\"356.343,1444.41 395.108,1445.5 433.873,1445.25 472.639,1445.49 511.404,1445.24 550.169,1444.98 588.934,1445.28 627.7,1445.1 666.465,1445.26 705.23,1445.56 743.996,1444.8 782.761,1445.62 821.526,1445.64 860.292,1444.66 899.057,1444.45 937.822,1445.69 976.588,1445.71 1015.35,1445.55 1054.12,1445.68 1092.88,1445.6 1131.65,1445.59 1170.41,1445.48 1209.18,1445.63 1247.94,1445.53 1286.71,1445.56 1325.48,1445.66 1364.24,1445.32 1403.01,1445.62 1441.77,1445.13 1480.54,87.9763 1519.3,1445.68 1558.07,1445.56 1596.83,1445.68 1635.6,1445.72 1674.36,1445.53 1713.13,1444.76 1751.89,1445.7 1790.66,1445.68 1829.42,1445.5 1868.19,1445.1 1906.95,1443.28 1945.72,1445.45 1984.49,1445.6 2023.25,1445.16 2062.02,1445.46 2100.78,1445.59 2139.55,1445.47 2178.31,1443.85 2217.08,1445.68 2255.84,1444.97 2294.61,1445.26 \"/>\n",
       "<path clip-path=\"url(#clip190)\" d=\"M2026.38 198.898 L2284.27 198.898 L2284.27 95.2176 L2026.38 95.2176  Z\" fill=\"#ffffff\" fill-rule=\"evenodd\" fill-opacity=\"1\"/>\n",
       "<polyline clip-path=\"url(#clip190)\" style=\"stroke:#000000; stroke-linecap:round; stroke-linejoin:round; stroke-width:4; stroke-opacity:1; fill:none\" points=\"2026.38,198.898 2284.27,198.898 2284.27,95.2176 2026.38,95.2176 2026.38,198.898 \"/>\n",
       "<polyline clip-path=\"url(#clip190)\" style=\"stroke:#009af9; stroke-linecap:round; stroke-linejoin:round; stroke-width:12; stroke-opacity:1; fill:none\" points=\"2049.21,147.058 2186.18,147.058 \"/>\n",
       "<path clip-path=\"url(#clip190)\" d=\"M2222.85 166.745 Q2221.05 171.375 2219.34 172.787 Q2217.62 174.199 2214.75 174.199 L2211.35 174.199 L2211.35 170.634 L2213.85 170.634 Q2215.61 170.634 2216.58 169.8 Q2217.55 168.967 2218.73 165.865 L2219.5 163.921 L2209.01 138.412 L2213.53 138.412 L2221.63 158.689 L2229.73 138.412 L2234.24 138.412 L2222.85 166.745 Z\" fill=\"#000000\" fill-rule=\"nonzero\" fill-opacity=\"1\" /><path clip-path=\"url(#clip190)\" d=\"M2241.53 160.402 L2249.17 160.402 L2249.17 134.037 L2240.86 135.703 L2240.86 131.444 L2249.13 129.778 L2253.8 129.778 L2253.8 160.402 L2261.44 160.402 L2261.44 164.338 L2241.53 164.338 L2241.53 160.402 Z\" fill=\"#000000\" fill-rule=\"nonzero\" fill-opacity=\"1\" /></svg>\n"
      ],
      "text/html": [
       "<?xml version=\"1.0\" encoding=\"utf-8\"?>\n",
       "<svg xmlns=\"http://www.w3.org/2000/svg\" xmlns:xlink=\"http://www.w3.org/1999/xlink\" width=\"600\" height=\"400\" viewBox=\"0 0 2400 1600\">\n",
       "<defs>\n",
       "  <clipPath id=\"clip240\">\n",
       "    <rect x=\"0\" y=\"0\" width=\"2400\" height=\"1600\"/>\n",
       "  </clipPath>\n",
       "</defs>\n",
       "<path clip-path=\"url(#clip240)\" d=\"M0 1600 L2400 1600 L2400 0 L0 0  Z\" fill=\"#ffffff\" fill-rule=\"evenodd\" fill-opacity=\"1\"/>\n",
       "<defs>\n",
       "  <clipPath id=\"clip241\">\n",
       "    <rect x=\"480\" y=\"0\" width=\"1681\" height=\"1600\"/>\n",
       "  </clipPath>\n",
       "</defs>\n",
       "<path clip-path=\"url(#clip240)\" d=\"M298.195 1486.45 L2352.76 1486.45 L2352.76 47.2441 L298.195 47.2441  Z\" fill=\"#ffffff\" fill-rule=\"evenodd\" fill-opacity=\"1\"/>\n",
       "<defs>\n",
       "  <clipPath id=\"clip242\">\n",
       "    <rect x=\"298\" y=\"47\" width=\"2056\" height=\"1440\"/>\n",
       "  </clipPath>\n",
       "</defs>\n",
       "<polyline clip-path=\"url(#clip242)\" style=\"stroke:#000000; stroke-linecap:round; stroke-linejoin:round; stroke-width:2; stroke-opacity:0.1; fill:none\" points=\"356.343,1486.45 356.343,47.2441 \"/>\n",
       "<polyline clip-path=\"url(#clip242)\" style=\"stroke:#000000; stroke-linecap:round; stroke-linejoin:round; stroke-width:2; stroke-opacity:0.1; fill:none\" points=\"743.996,1486.45 743.996,47.2441 \"/>\n",
       "<polyline clip-path=\"url(#clip242)\" style=\"stroke:#000000; stroke-linecap:round; stroke-linejoin:round; stroke-width:2; stroke-opacity:0.1; fill:none\" points=\"1131.65,1486.45 1131.65,47.2441 \"/>\n",
       "<polyline clip-path=\"url(#clip242)\" style=\"stroke:#000000; stroke-linecap:round; stroke-linejoin:round; stroke-width:2; stroke-opacity:0.1; fill:none\" points=\"1519.3,1486.45 1519.3,47.2441 \"/>\n",
       "<polyline clip-path=\"url(#clip242)\" style=\"stroke:#000000; stroke-linecap:round; stroke-linejoin:round; stroke-width:2; stroke-opacity:0.1; fill:none\" points=\"1906.95,1486.45 1906.95,47.2441 \"/>\n",
       "<polyline clip-path=\"url(#clip242)\" style=\"stroke:#000000; stroke-linecap:round; stroke-linejoin:round; stroke-width:2; stroke-opacity:0.1; fill:none\" points=\"2294.61,1486.45 2294.61,47.2441 \"/>\n",
       "<polyline clip-path=\"url(#clip240)\" style=\"stroke:#000000; stroke-linecap:round; stroke-linejoin:round; stroke-width:4; stroke-opacity:1; fill:none\" points=\"298.195,1486.45 2352.76,1486.45 \"/>\n",
       "<polyline clip-path=\"url(#clip240)\" style=\"stroke:#000000; stroke-linecap:round; stroke-linejoin:round; stroke-width:4; stroke-opacity:1; fill:none\" points=\"356.343,1486.45 356.343,1467.55 \"/>\n",
       "<polyline clip-path=\"url(#clip240)\" style=\"stroke:#000000; stroke-linecap:round; stroke-linejoin:round; stroke-width:4; stroke-opacity:1; fill:none\" points=\"743.996,1486.45 743.996,1467.55 \"/>\n",
       "<polyline clip-path=\"url(#clip240)\" style=\"stroke:#000000; stroke-linecap:round; stroke-linejoin:round; stroke-width:4; stroke-opacity:1; fill:none\" points=\"1131.65,1486.45 1131.65,1467.55 \"/>\n",
       "<polyline clip-path=\"url(#clip240)\" style=\"stroke:#000000; stroke-linecap:round; stroke-linejoin:round; stroke-width:4; stroke-opacity:1; fill:none\" points=\"1519.3,1486.45 1519.3,1467.55 \"/>\n",
       "<polyline clip-path=\"url(#clip240)\" style=\"stroke:#000000; stroke-linecap:round; stroke-linejoin:round; stroke-width:4; stroke-opacity:1; fill:none\" points=\"1906.95,1486.45 1906.95,1467.55 \"/>\n",
       "<polyline clip-path=\"url(#clip240)\" style=\"stroke:#000000; stroke-linecap:round; stroke-linejoin:round; stroke-width:4; stroke-opacity:1; fill:none\" points=\"2294.61,1486.45 2294.61,1467.55 \"/>\n",
       "<path clip-path=\"url(#clip240)\" d=\"M356.343 1517.37 Q352.732 1517.37 350.903 1520.93 Q349.097 1524.47 349.097 1531.6 Q349.097 1538.71 350.903 1542.27 Q352.732 1545.82 356.343 1545.82 Q359.977 1545.82 361.782 1542.27 Q363.611 1538.71 363.611 1531.6 Q363.611 1524.47 361.782 1520.93 Q359.977 1517.37 356.343 1517.37 M356.343 1513.66 Q362.153 1513.66 365.208 1518.27 Q368.287 1522.85 368.287 1531.6 Q368.287 1540.33 365.208 1544.94 Q362.153 1549.52 356.343 1549.52 Q350.533 1549.52 347.454 1544.94 Q344.398 1540.33 344.398 1531.6 Q344.398 1522.85 347.454 1518.27 Q350.533 1513.66 356.343 1513.66 Z\" fill=\"#000000\" fill-rule=\"nonzero\" fill-opacity=\"1\" /><path clip-path=\"url(#clip240)\" d=\"M734.378 1544.91 L742.017 1544.91 L742.017 1518.55 L733.706 1520.21 L733.706 1515.95 L741.97 1514.29 L746.646 1514.29 L746.646 1544.91 L754.285 1544.91 L754.285 1548.85 L734.378 1548.85 L734.378 1544.91 Z\" fill=\"#000000\" fill-rule=\"nonzero\" fill-opacity=\"1\" /><path clip-path=\"url(#clip240)\" d=\"M1126.3 1544.91 L1142.62 1544.91 L1142.62 1548.85 L1120.68 1548.85 L1120.68 1544.91 Q1123.34 1542.16 1127.92 1537.53 Q1132.53 1532.88 1133.71 1531.53 Q1135.95 1529.01 1136.83 1527.27 Q1137.74 1525.51 1137.74 1523.82 Q1137.74 1521.07 1135.79 1519.33 Q1133.87 1517.6 1130.77 1517.6 Q1128.57 1517.6 1126.12 1518.36 Q1123.69 1519.13 1120.91 1520.68 L1120.91 1515.95 Q1123.73 1514.82 1126.19 1514.24 Q1128.64 1513.66 1130.68 1513.66 Q1136.05 1513.66 1139.24 1516.35 Q1142.44 1519.03 1142.44 1523.52 Q1142.44 1525.65 1141.63 1527.57 Q1140.84 1529.47 1138.73 1532.07 Q1138.15 1532.74 1135.05 1535.95 Q1131.95 1539.15 1126.3 1544.91 Z\" fill=\"#000000\" fill-rule=\"nonzero\" fill-opacity=\"1\" /><path clip-path=\"url(#clip240)\" d=\"M1523.55 1530.21 Q1526.91 1530.93 1528.78 1533.2 Q1530.68 1535.47 1530.68 1538.8 Q1530.68 1543.92 1527.16 1546.72 Q1523.64 1549.52 1517.16 1549.52 Q1514.98 1549.52 1512.67 1549.08 Q1510.38 1548.66 1507.92 1547.81 L1507.92 1543.29 Q1509.87 1544.43 1512.18 1545.01 Q1514.5 1545.58 1517.02 1545.58 Q1521.42 1545.58 1523.71 1543.85 Q1526.03 1542.11 1526.03 1538.8 Q1526.03 1535.75 1523.87 1534.03 Q1521.74 1532.3 1517.92 1532.3 L1513.9 1532.3 L1513.9 1528.45 L1518.11 1528.45 Q1521.56 1528.45 1523.39 1527.09 Q1525.22 1525.7 1525.22 1523.11 Q1525.22 1520.45 1523.32 1519.03 Q1521.44 1517.6 1517.92 1517.6 Q1516 1517.6 1513.8 1518.01 Q1511.61 1518.43 1508.97 1519.31 L1508.97 1515.14 Q1511.63 1514.4 1513.94 1514.03 Q1516.28 1513.66 1518.34 1513.66 Q1523.67 1513.66 1526.77 1516.09 Q1529.87 1518.5 1529.87 1522.62 Q1529.87 1525.49 1528.23 1527.48 Q1526.58 1529.45 1523.55 1530.21 Z\" fill=\"#000000\" fill-rule=\"nonzero\" fill-opacity=\"1\" /><path clip-path=\"url(#clip240)\" d=\"M1909.96 1518.36 L1898.16 1536.81 L1909.96 1536.81 L1909.96 1518.36 M1908.74 1514.29 L1914.62 1514.29 L1914.62 1536.81 L1919.55 1536.81 L1919.55 1540.7 L1914.62 1540.7 L1914.62 1548.85 L1909.96 1548.85 L1909.96 1540.7 L1894.36 1540.7 L1894.36 1536.19 L1908.74 1514.29 Z\" fill=\"#000000\" fill-rule=\"nonzero\" fill-opacity=\"1\" /><path clip-path=\"url(#clip240)\" d=\"M2284.89 1514.29 L2303.24 1514.29 L2303.24 1518.22 L2289.17 1518.22 L2289.17 1526.7 Q2290.19 1526.35 2291.21 1526.19 Q2292.22 1526 2293.24 1526 Q2299.03 1526 2302.41 1529.17 Q2305.79 1532.34 2305.79 1537.76 Q2305.79 1543.34 2302.32 1546.44 Q2298.84 1549.52 2292.52 1549.52 Q2290.35 1549.52 2288.08 1549.15 Q2285.83 1548.78 2283.43 1548.04 L2283.43 1543.34 Q2285.51 1544.47 2287.73 1545.03 Q2289.96 1545.58 2292.43 1545.58 Q2296.44 1545.58 2298.77 1543.48 Q2301.11 1541.37 2301.11 1537.76 Q2301.11 1534.15 2298.77 1532.04 Q2296.44 1529.94 2292.43 1529.94 Q2290.56 1529.94 2288.68 1530.35 Q2286.83 1530.77 2284.89 1531.65 L2284.89 1514.29 Z\" fill=\"#000000\" fill-rule=\"nonzero\" fill-opacity=\"1\" /><polyline clip-path=\"url(#clip242)\" style=\"stroke:#000000; stroke-linecap:round; stroke-linejoin:round; stroke-width:2; stroke-opacity:0.1; fill:none\" points=\"298.195,1445.76 2352.76,1445.76 \"/>\n",
       "<polyline clip-path=\"url(#clip242)\" style=\"stroke:#000000; stroke-linecap:round; stroke-linejoin:round; stroke-width:2; stroke-opacity:0.1; fill:none\" points=\"298.195,1070.63 2352.76,1070.63 \"/>\n",
       "<polyline clip-path=\"url(#clip242)\" style=\"stroke:#000000; stroke-linecap:round; stroke-linejoin:round; stroke-width:2; stroke-opacity:0.1; fill:none\" points=\"298.195,695.489 2352.76,695.489 \"/>\n",
       "<polyline clip-path=\"url(#clip242)\" style=\"stroke:#000000; stroke-linecap:round; stroke-linejoin:round; stroke-width:2; stroke-opacity:0.1; fill:none\" points=\"298.195,320.352 2352.76,320.352 \"/>\n",
       "<polyline clip-path=\"url(#clip240)\" style=\"stroke:#000000; stroke-linecap:round; stroke-linejoin:round; stroke-width:4; stroke-opacity:1; fill:none\" points=\"298.195,1486.45 298.195,47.2441 \"/>\n",
       "<polyline clip-path=\"url(#clip240)\" style=\"stroke:#000000; stroke-linecap:round; stroke-linejoin:round; stroke-width:4; stroke-opacity:1; fill:none\" points=\"298.195,1445.76 317.092,1445.76 \"/>\n",
       "<polyline clip-path=\"url(#clip240)\" style=\"stroke:#000000; stroke-linecap:round; stroke-linejoin:round; stroke-width:4; stroke-opacity:1; fill:none\" points=\"298.195,1070.63 317.092,1070.63 \"/>\n",
       "<polyline clip-path=\"url(#clip240)\" style=\"stroke:#000000; stroke-linecap:round; stroke-linejoin:round; stroke-width:4; stroke-opacity:1; fill:none\" points=\"298.195,695.489 317.092,695.489 \"/>\n",
       "<polyline clip-path=\"url(#clip240)\" style=\"stroke:#000000; stroke-linecap:round; stroke-linejoin:round; stroke-width:4; stroke-opacity:1; fill:none\" points=\"298.195,320.352 317.092,320.352 \"/>\n",
       "<path clip-path=\"url(#clip240)\" d=\"M250.25 1431.56 Q246.639 1431.56 244.811 1435.13 Q243.005 1438.67 243.005 1445.8 Q243.005 1452.91 244.811 1456.47 Q246.639 1460.01 250.25 1460.01 Q253.885 1460.01 255.69 1456.47 Q257.519 1452.91 257.519 1445.8 Q257.519 1438.67 255.69 1435.13 Q253.885 1431.56 250.25 1431.56 M250.25 1427.86 Q256.06 1427.86 259.116 1432.47 Q262.195 1437.05 262.195 1445.8 Q262.195 1454.53 259.116 1459.13 Q256.06 1463.72 250.25 1463.72 Q244.44 1463.72 241.361 1459.13 Q238.306 1454.53 238.306 1445.8 Q238.306 1437.05 241.361 1432.47 Q244.44 1427.86 250.25 1427.86 Z\" fill=\"#000000\" fill-rule=\"nonzero\" fill-opacity=\"1\" /><path clip-path=\"url(#clip240)\" d=\"M57.7745 1090.42 L74.0939 1090.42 L74.0939 1094.35 L52.1495 1094.35 L52.1495 1090.42 Q54.8115 1087.66 59.3949 1083.04 Q64.0013 1078.38 65.1819 1077.04 Q67.4272 1074.52 68.3068 1072.78 Q69.2096 1071.02 69.2096 1069.33 Q69.2096 1066.58 67.2652 1064.84 Q65.3439 1063.1 62.2421 1063.1 Q60.043 1063.1 57.5893 1063.87 Q55.1588 1064.63 52.381 1066.18 L52.381 1061.46 Q55.2051 1060.33 57.6588 1059.75 Q60.1124 1059.17 62.1495 1059.17 Q67.5198 1059.17 70.7142 1061.85 Q73.9087 1064.54 73.9087 1069.03 Q73.9087 1071.16 73.0985 1073.08 Q72.3115 1074.98 70.205 1077.57 Q69.6263 1078.24 66.5245 1081.46 Q63.4226 1084.66 57.7745 1090.42 Z\" fill=\"#000000\" fill-rule=\"nonzero\" fill-opacity=\"1\" /><path clip-path=\"url(#clip240)\" d=\"M83.9086 1088.48 L88.7928 1088.48 L88.7928 1094.35 L83.9086 1094.35 L83.9086 1088.48 Z\" fill=\"#000000\" fill-rule=\"nonzero\" fill-opacity=\"1\" /><path clip-path=\"url(#clip240)\" d=\"M108.978 1062.87 Q105.367 1062.87 103.538 1066.44 Q101.733 1069.98 101.733 1077.11 Q101.733 1084.22 103.538 1087.78 Q105.367 1091.32 108.978 1091.32 Q112.612 1091.32 114.418 1087.78 Q116.246 1084.22 116.246 1077.11 Q116.246 1069.98 114.418 1066.44 Q112.612 1062.87 108.978 1062.87 M108.978 1059.17 Q114.788 1059.17 117.844 1063.78 Q120.922 1068.36 120.922 1077.11 Q120.922 1085.84 117.844 1090.44 Q114.788 1095.03 108.978 1095.03 Q103.168 1095.03 100.089 1090.44 Q97.0335 1085.84 97.0335 1077.11 Q97.0335 1068.36 100.089 1063.78 Q103.168 1059.17 108.978 1059.17 Z\" fill=\"#000000\" fill-rule=\"nonzero\" fill-opacity=\"1\" /><path clip-path=\"url(#clip240)\" d=\"M157.311 1068.89 L146.732 1079.52 L157.311 1090.1 L154.556 1092.9 L143.931 1082.27 L133.306 1092.9 L130.575 1090.1 L141.131 1079.52 L130.575 1068.89 L133.306 1066.09 L143.931 1076.72 L154.556 1066.09 L157.311 1068.89 Z\" fill=\"#000000\" fill-rule=\"nonzero\" fill-opacity=\"1\" /><path clip-path=\"url(#clip240)\" d=\"M169.672 1090.42 L177.311 1090.42 L177.311 1064.05 L169.001 1065.72 L169.001 1061.46 L177.265 1059.79 L181.94 1059.79 L181.94 1090.42 L189.579 1090.42 L189.579 1094.35 L169.672 1094.35 L169.672 1090.42 Z\" fill=\"#000000\" fill-rule=\"nonzero\" fill-opacity=\"1\" /><path clip-path=\"url(#clip240)\" d=\"M209.024 1062.87 Q205.413 1062.87 203.584 1066.44 Q201.778 1069.98 201.778 1077.11 Q201.778 1084.22 203.584 1087.78 Q205.413 1091.32 209.024 1091.32 Q212.658 1091.32 214.463 1087.78 Q216.292 1084.22 216.292 1077.11 Q216.292 1069.98 214.463 1066.44 Q212.658 1062.87 209.024 1062.87 M209.024 1059.17 Q214.834 1059.17 217.889 1063.78 Q220.968 1068.36 220.968 1077.11 Q220.968 1085.84 217.889 1090.44 Q214.834 1095.03 209.024 1095.03 Q203.214 1095.03 200.135 1090.44 Q197.079 1085.84 197.079 1077.11 Q197.079 1068.36 200.135 1063.78 Q203.214 1059.17 209.024 1059.17 Z\" fill=\"#000000\" fill-rule=\"nonzero\" fill-opacity=\"1\" /><path clip-path=\"url(#clip240)\" d=\"M221.513 1063.75 L227.72 1063.75 L227.72 1042.32 L220.968 1043.68 L220.968 1040.22 L227.682 1038.86 L231.482 1038.86 L231.482 1063.75 L237.688 1063.75 L237.688 1066.94 L221.513 1066.94 L221.513 1063.75 Z\" fill=\"#000000\" fill-rule=\"nonzero\" fill-opacity=\"1\" /><path clip-path=\"url(#clip240)\" d=\"M246.02 1063.75 L252.227 1063.75 L252.227 1042.32 L245.475 1043.68 L245.475 1040.22 L252.189 1038.86 L255.988 1038.86 L255.988 1063.75 L262.195 1063.75 L262.195 1066.94 L246.02 1066.94 L246.02 1063.75 Z\" fill=\"#000000\" fill-rule=\"nonzero\" fill-opacity=\"1\" /><path clip-path=\"url(#clip240)\" d=\"M66.5939 688.731 L54.7884 707.18 L66.5939 707.18 L66.5939 688.731 M65.367 684.657 L71.2466 684.657 L71.2466 707.18 L76.1772 707.18 L76.1772 711.069 L71.2466 711.069 L71.2466 719.217 L66.5939 719.217 L66.5939 711.069 L50.9921 711.069 L50.9921 706.555 L65.367 684.657 Z\" fill=\"#000000\" fill-rule=\"nonzero\" fill-opacity=\"1\" /><path clip-path=\"url(#clip240)\" d=\"M83.9086 713.337 L88.7928 713.337 L88.7928 719.217 L83.9086 719.217 L83.9086 713.337 Z\" fill=\"#000000\" fill-rule=\"nonzero\" fill-opacity=\"1\" /><path clip-path=\"url(#clip240)\" d=\"M108.978 687.736 Q105.367 687.736 103.538 691.3 Q101.733 694.842 101.733 701.972 Q101.733 709.078 103.538 712.643 Q105.367 716.185 108.978 716.185 Q112.612 716.185 114.418 712.643 Q116.246 709.078 116.246 701.972 Q116.246 694.842 114.418 691.3 Q112.612 687.736 108.978 687.736 M108.978 684.032 Q114.788 684.032 117.844 688.638 Q120.922 693.222 120.922 701.972 Q120.922 710.698 117.844 715.305 Q114.788 719.888 108.978 719.888 Q103.168 719.888 100.089 715.305 Q97.0335 710.698 97.0335 701.972 Q97.0335 693.222 100.089 688.638 Q103.168 684.032 108.978 684.032 Z\" fill=\"#000000\" fill-rule=\"nonzero\" fill-opacity=\"1\" /><path clip-path=\"url(#clip240)\" d=\"M157.311 693.754 L146.732 704.379 L157.311 714.958 L154.556 717.759 L143.931 707.134 L133.306 717.759 L130.575 714.958 L141.131 704.379 L130.575 693.754 L133.306 690.953 L143.931 701.578 L154.556 690.953 L157.311 693.754 Z\" fill=\"#000000\" fill-rule=\"nonzero\" fill-opacity=\"1\" /><path clip-path=\"url(#clip240)\" d=\"M169.672 715.282 L177.311 715.282 L177.311 688.916 L169.001 690.583 L169.001 686.324 L177.265 684.657 L181.94 684.657 L181.94 715.282 L189.579 715.282 L189.579 719.217 L169.672 719.217 L169.672 715.282 Z\" fill=\"#000000\" fill-rule=\"nonzero\" fill-opacity=\"1\" /><path clip-path=\"url(#clip240)\" d=\"M209.024 687.736 Q205.413 687.736 203.584 691.3 Q201.778 694.842 201.778 701.972 Q201.778 709.078 203.584 712.643 Q205.413 716.185 209.024 716.185 Q212.658 716.185 214.463 712.643 Q216.292 709.078 216.292 701.972 Q216.292 694.842 214.463 691.3 Q212.658 687.736 209.024 687.736 M209.024 684.032 Q214.834 684.032 217.889 688.638 Q220.968 693.222 220.968 701.972 Q220.968 710.698 217.889 715.305 Q214.834 719.888 209.024 719.888 Q203.214 719.888 200.135 715.305 Q197.079 710.698 197.079 701.972 Q197.079 693.222 200.135 688.638 Q203.214 684.032 209.024 684.032 Z\" fill=\"#000000\" fill-rule=\"nonzero\" fill-opacity=\"1\" /><path clip-path=\"url(#clip240)\" d=\"M221.513 688.609 L227.72 688.609 L227.72 667.187 L220.968 668.541 L220.968 665.081 L227.682 663.727 L231.482 663.727 L231.482 688.609 L237.688 688.609 L237.688 691.807 L221.513 691.807 L221.513 688.609 Z\" fill=\"#000000\" fill-rule=\"nonzero\" fill-opacity=\"1\" /><path clip-path=\"url(#clip240)\" d=\"M246.02 688.609 L252.227 688.609 L252.227 667.187 L245.475 668.541 L245.475 665.081 L252.189 663.727 L255.988 663.727 L255.988 688.609 L262.195 688.609 L262.195 691.807 L246.02 691.807 L246.02 688.609 Z\" fill=\"#000000\" fill-rule=\"nonzero\" fill-opacity=\"1\" /><path clip-path=\"url(#clip240)\" d=\"M64.3254 324.936 Q61.1773 324.936 59.3254 327.089 Q57.4967 329.241 57.4967 332.991 Q57.4967 336.718 59.3254 338.894 Q61.1773 341.047 64.3254 341.047 Q67.4735 341.047 69.3022 338.894 Q71.1541 336.718 71.1541 332.991 Q71.1541 329.241 69.3022 327.089 Q67.4735 324.936 64.3254 324.936 M73.6077 310.283 L73.6077 314.542 Q71.8485 313.709 70.0429 313.269 Q68.2606 312.829 66.5013 312.829 Q61.8717 312.829 59.418 315.954 Q56.9875 319.079 56.6402 325.399 Q58.006 323.385 60.0662 322.32 Q62.1263 321.232 64.6032 321.232 Q69.8115 321.232 72.8207 324.403 Q75.8531 327.551 75.8531 332.991 Q75.8531 338.315 72.705 341.533 Q69.5568 344.75 64.3254 344.75 Q58.33 344.75 55.1588 340.167 Q51.9875 335.561 51.9875 326.834 Q51.9875 318.64 55.8764 313.778 Q59.7652 308.894 66.3161 308.894 Q68.0754 308.894 69.8578 309.241 Q71.6633 309.589 73.6077 310.283 Z\" fill=\"#000000\" fill-rule=\"nonzero\" fill-opacity=\"1\" /><path clip-path=\"url(#clip240)\" d=\"M83.9086 338.2 L88.7928 338.2 L88.7928 344.079 L83.9086 344.079 L83.9086 338.2 Z\" fill=\"#000000\" fill-rule=\"nonzero\" fill-opacity=\"1\" /><path clip-path=\"url(#clip240)\" d=\"M108.978 312.598 Q105.367 312.598 103.538 316.163 Q101.733 319.704 101.733 326.834 Q101.733 333.94 103.538 337.505 Q105.367 341.047 108.978 341.047 Q112.612 341.047 114.418 337.505 Q116.246 333.94 116.246 326.834 Q116.246 319.704 114.418 316.163 Q112.612 312.598 108.978 312.598 M108.978 308.894 Q114.788 308.894 117.844 313.501 Q120.922 318.084 120.922 326.834 Q120.922 335.561 117.844 340.167 Q114.788 344.75 108.978 344.75 Q103.168 344.75 100.089 340.167 Q97.0335 335.561 97.0335 326.834 Q97.0335 318.084 100.089 313.501 Q103.168 308.894 108.978 308.894 Z\" fill=\"#000000\" fill-rule=\"nonzero\" fill-opacity=\"1\" /><path clip-path=\"url(#clip240)\" d=\"M157.311 318.616 L146.732 329.241 L157.311 339.82 L154.556 342.621 L143.931 331.996 L133.306 342.621 L130.575 339.82 L141.131 329.241 L130.575 318.616 L133.306 315.815 L143.931 326.44 L154.556 315.815 L157.311 318.616 Z\" fill=\"#000000\" fill-rule=\"nonzero\" fill-opacity=\"1\" /><path clip-path=\"url(#clip240)\" d=\"M169.672 340.144 L177.311 340.144 L177.311 313.778 L169.001 315.445 L169.001 311.186 L177.265 309.519 L181.94 309.519 L181.94 340.144 L189.579 340.144 L189.579 344.079 L169.672 344.079 L169.672 340.144 Z\" fill=\"#000000\" fill-rule=\"nonzero\" fill-opacity=\"1\" /><path clip-path=\"url(#clip240)\" d=\"M209.024 312.598 Q205.413 312.598 203.584 316.163 Q201.778 319.704 201.778 326.834 Q201.778 333.94 203.584 337.505 Q205.413 341.047 209.024 341.047 Q212.658 341.047 214.463 337.505 Q216.292 333.94 216.292 326.834 Q216.292 319.704 214.463 316.163 Q212.658 312.598 209.024 312.598 M209.024 308.894 Q214.834 308.894 217.889 313.501 Q220.968 318.084 220.968 326.834 Q220.968 335.561 217.889 340.167 Q214.834 344.75 209.024 344.75 Q203.214 344.75 200.135 340.167 Q197.079 335.561 197.079 326.834 Q197.079 318.084 200.135 313.501 Q203.214 308.894 209.024 308.894 Z\" fill=\"#000000\" fill-rule=\"nonzero\" fill-opacity=\"1\" /><path clip-path=\"url(#clip240)\" d=\"M221.513 313.471 L227.72 313.471 L227.72 292.049 L220.968 293.404 L220.968 289.943 L227.682 288.589 L231.482 288.589 L231.482 313.471 L237.688 313.471 L237.688 316.669 L221.513 316.669 L221.513 313.471 Z\" fill=\"#000000\" fill-rule=\"nonzero\" fill-opacity=\"1\" /><path clip-path=\"url(#clip240)\" d=\"M246.02 313.471 L252.227 313.471 L252.227 292.049 L245.475 293.404 L245.475 289.943 L252.189 288.589 L255.988 288.589 L255.988 313.471 L262.195 313.471 L262.195 316.669 L246.02 316.669 L246.02 313.471 Z\" fill=\"#000000\" fill-rule=\"nonzero\" fill-opacity=\"1\" /><polyline clip-path=\"url(#clip242)\" style=\"stroke:#009af9; stroke-linecap:round; stroke-linejoin:round; stroke-width:12; stroke-opacity:1; fill:none\" points=\"356.343,1444.41 395.108,1445.5 433.873,1445.25 472.639,1445.49 511.404,1445.24 550.169,1444.98 588.934,1445.28 627.7,1445.1 666.465,1445.26 705.23,1445.56 743.996,1444.8 782.761,1445.62 821.526,1445.64 860.292,1444.66 899.057,1444.45 937.822,1445.69 976.588,1445.71 1015.35,1445.55 1054.12,1445.68 1092.88,1445.6 1131.65,1445.59 1170.41,1445.48 1209.18,1445.63 1247.94,1445.53 1286.71,1445.56 1325.48,1445.66 1364.24,1445.32 1403.01,1445.62 1441.77,1445.13 1480.54,87.9763 1519.3,1445.68 1558.07,1445.56 1596.83,1445.68 1635.6,1445.72 1674.36,1445.53 1713.13,1444.76 1751.89,1445.7 1790.66,1445.68 1829.42,1445.5 1868.19,1445.1 1906.95,1443.28 1945.72,1445.45 1984.49,1445.6 2023.25,1445.16 2062.02,1445.46 2100.78,1445.59 2139.55,1445.47 2178.31,1443.85 2217.08,1445.68 2255.84,1444.97 2294.61,1445.26 \"/>\n",
       "<path clip-path=\"url(#clip240)\" d=\"M2026.38 198.898 L2284.27 198.898 L2284.27 95.2176 L2026.38 95.2176  Z\" fill=\"#ffffff\" fill-rule=\"evenodd\" fill-opacity=\"1\"/>\n",
       "<polyline clip-path=\"url(#clip240)\" style=\"stroke:#000000; stroke-linecap:round; stroke-linejoin:round; stroke-width:4; stroke-opacity:1; fill:none\" points=\"2026.38,198.898 2284.27,198.898 2284.27,95.2176 2026.38,95.2176 2026.38,198.898 \"/>\n",
       "<polyline clip-path=\"url(#clip240)\" style=\"stroke:#009af9; stroke-linecap:round; stroke-linejoin:round; stroke-width:12; stroke-opacity:1; fill:none\" points=\"2049.21,147.058 2186.18,147.058 \"/>\n",
       "<path clip-path=\"url(#clip240)\" d=\"M2222.85 166.745 Q2221.05 171.375 2219.34 172.787 Q2217.62 174.199 2214.75 174.199 L2211.35 174.199 L2211.35 170.634 L2213.85 170.634 Q2215.61 170.634 2216.58 169.8 Q2217.55 168.967 2218.73 165.865 L2219.5 163.921 L2209.01 138.412 L2213.53 138.412 L2221.63 158.689 L2229.73 138.412 L2234.24 138.412 L2222.85 166.745 Z\" fill=\"#000000\" fill-rule=\"nonzero\" fill-opacity=\"1\" /><path clip-path=\"url(#clip240)\" d=\"M2241.53 160.402 L2249.17 160.402 L2249.17 134.037 L2240.86 135.703 L2240.86 131.444 L2249.13 129.778 L2253.8 129.778 L2253.8 160.402 L2261.44 160.402 L2261.44 164.338 L2241.53 164.338 L2241.53 160.402 Z\" fill=\"#000000\" fill-rule=\"nonzero\" fill-opacity=\"1\" /></svg>\n"
      ]
     },
     "metadata": {},
     "output_type": "display_data"
    }
   ],
   "source": [
    "plot(grange, F, lw = 3)"
   ]
  },
  {
   "cell_type": "code",
   "execution_count": null,
   "metadata": {},
   "outputs": [],
   "source": []
  }
 ],
 "metadata": {
  "kernelspec": {
   "display_name": "Julia 1.9.3",
   "language": "julia",
   "name": "julia-1.9"
  },
  "language_info": {
   "file_extension": ".jl",
   "mimetype": "application/julia",
   "name": "julia",
   "version": "1.9.3"
  },
  "orig_nbformat": 4
 },
 "nbformat": 4,
 "nbformat_minor": 2
}
