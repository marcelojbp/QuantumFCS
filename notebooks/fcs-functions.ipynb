{
 "cells": [
  {
   "cell_type": "code",
   "execution_count": 14,
   "metadata": {},
   "outputs": [
    {
     "data": {
      "text/plain": [
       "drazin_apply"
      ]
     },
     "metadata": {},
     "output_type": "display_data"
    }
   ],
   "source": [
    "using LinearAlgebra\n",
    "using BenchmarkTools\n",
    "using LaTeXStrings\n",
    "using QuantumOptics\n",
    "using Plots\n",
    "using BenchmarkTools\n",
    "using SparseArrays\n",
    "using IterativeSolvers\n",
    "# using QuantumFCS\n",
    "include(\"/Users/jano/Library/CloudStorage/Dropbox/Work/Repos/QuantumFCS/src/FCS_functions.jl\")"
   ]
  },
  {
   "cell_type": "code",
   "execution_count": null,
   "metadata": {},
   "outputs": [],
   "source": []
  },
  {
   "cell_type": "markdown",
   "metadata": {},
   "source": [
    "As a general scenario, we consider a Lindblad master equation denoted by,\n",
    "$$ \n",
    "\\mathcal{L}\\rho =\\frac{d \\rho}{dt} = -i[H, \\rho] + \\sum_{k=1}^r L_k \\rho L_k^\\dagger -\\frac{1}{2}\\left\\{L^\\dagger_k L_k, \\rho \\right\\}.\n",
    "$$\n",
    "From the above equation we introduce $p\\leq r$ counting fields with weights $\\nu_k$. This defines the generalized master equation (GME),\n",
    "$$\n",
    "\\mathcal{L}_\\chi \\rho_\\chi = \\left(\\mathcal{L} + \\Delta \\mathcal{L}_\\chi \\right)\\rho_\\chi,\n",
    "$$\n",
    "where,\n",
    "$$\n",
    " \\Delta \\mathcal{L}_\\chi = \\sum_{k=1}^p(1-e^{i\\nu_k \\chi}) L_k \\rho L_k^\\dagger .\n",
    "$$\n",
    "Whatever method we use to compute the FCS, we start by vectorizating the GME,\n",
    "$$\n",
    "\\mathcal{L}_\\chi\\rho_\\chi \\to   \\mathcal{L}_\\chi|\\rho_\\chi \\rangle \\rangle \n",
    "$$"
   ]
  },
  {
   "cell_type": "markdown",
   "metadata": {},
   "source": [
    "Upon vectorization, the current fluctuations can be computed through\n",
    "\n",
    "$$\n",
    "\\langle \\langle I^n \\rangle \\rangle = \\sum_{m=1}^n \\binom{n}{m} \\langle \\langle 1| \\mathcal{L}^{(m)}| \\rho^{(n-m)}\\rangle \\rangle,\n",
    "$$\n",
    "where,\n",
    "$$\n",
    "| \\rho^n\\rangle \\rangle = \\mathcal{L}^+\\sum_{m=1}^n \\binom{n}{m}\\left(  \\langle \\langle I^m \\rangle \\rangle - \\mathcal{L}^{(m)}\\right)|\\rho^{(n-m)} \\rangle \\rangle\n",
    "$$\n",
    "and $|\\rho^0\\rangle \\rangle := | \\rho_{\\rm ss}\\rangle \\rangle$.\n",
    "\n",
    "In Julia vectors start at index 1. Therefore, it is more convenient to work with $| \\sigma^{n+1} \\rangle \\rangle = | \\rho^n\\rangle \\rangle$, which entail $| \\sigma^{1} \\rangle \\rangle = | \\rho^0\\rangle \\rangle$. We thus rewrite the above recursive formulas in terms of it"
   ]
  },
  {
   "cell_type": "markdown",
   "metadata": {},
   "source": [
    "\n",
    "$$\n",
    "\\boxed{\n",
    "\\langle \\langle I^n \\rangle \\rangle = \\sum_{m=1}^n \\binom{n}{m} \\langle \\langle 1| \\mathcal{L}^{(m)}| \\sigma^{(n+1-m)}\\rangle \\rangle,\n",
    "}\n",
    "$$\n",
    "$$\n",
    "\\boxed{\n",
    "| \\sigma^n\\rangle \\rangle = \\mathcal{L}^+\\sum_{m=1}^{n-1} \\binom{n-1}{m}\\left( \\langle \\langle I^m \\rangle \\rangle - \\mathcal{L}^{(m)}\\right)|\\sigma^{(n-m)} \\rangle \\rangle\n",
    "}\n",
    "$$\n"
   ]
  },
  {
   "cell_type": "markdown",
   "metadata": {},
   "source": [
    "# Test for the Drazin inverse and Drazin apply\n",
    "\n",
    "From melt.nb documentation, we have that a master equation of the form\n",
    "$$ \\mathcal{L} \\rho = -i[\\sigma_z,\\rho]   + \\gamma_m D[\\sigma\\rho + \\gamma_p D[\\sigma^\\dagger]\\rho.$$\n",
    "\n",
    "The above Liouvillian has a corresponding Drazin inverse of the form,\n",
    "$$\\mathcal{L}^+ = \\begin{pmatrix}\n",
    "-\\frac{\\gamma_m}{(\\gamma_m + \\gamma_p)^2} & 0 & 0 & \\frac{\\gamma_p}{(\\gamma_m + \\gamma_p)^2}\\\\\n",
    "0 & - \\frac{2}{-4i + \\gamma_m + \\gamma_p} & 0 & 0\\\\\n",
    "0 & 0 & - \\frac{2}{+4i + \\gamma_m + \\gamma_p} & 0\\\\\n",
    "\\frac{\\gamma_m}{(\\gamma_m + \\gamma_p)^2} & 0 & 0 & -\\frac{\\gamma_p}{(\\gamma_m + \\gamma_p)^2}\n",
    "    \\end{pmatrix}\n",
    "$$\n",
    "\n",
    "We now implement this analytical Drazin inverse and use it to test our function to compute the Drazin inverse."
   ]
  },
  {
   "cell_type": "code",
   "execution_count": null,
   "metadata": {},
   "outputs": [],
   "source": [
    "qubit_drazin(γm, γp) = [-γm/(γm+γp)^2 0 0 γp/(γm+γp)^2; 0 -2/(-4im+γm+ γp) 0 0; 0 0 -2/(4im + γm + γp) 0; γm/(γm+ γp)^2 0 0 -γp/(γm + γp)^2]\n",
    "\n",
    "b_s = SpinBasis(1//2)\n",
    "σz = sigmaz(b_s)\n",
    "σm = sigmam(b_s)\n",
    "σp = sigmap(b_s)\n",
    "γ = 1.0\n",
    "γm = 0.5\n",
    "γp = 0.1\n",
    "LD_test = qubit_drazin(γm, γp)\n",
    "J = [√γm*σm, √γp*σp]\n",
    "L = liouvillian(σz, J)\n",
    "ρss = steadystate.eigenvector(L)\n",
    "l = length(ρss)\n",
    "IdL = Matrix{ComplexF64}(I, l, l)\n",
    "vId = vec(Matrix{ComplexF64}(I, size(ρss.data)))'\n",
    "LD = drazin(σz, J, vec(ρss.data), vId, IdL)\n",
    "display(round.(LD, digits=4))\n",
    "println(\"Are these the same?\")\n",
    "isapprox(LD,LD_test, atol=1e-10)"
   ]
  },
  {
   "cell_type": "markdown",
   "metadata": {},
   "source": [
    "# Two-level system "
   ]
  },
  {
   "cell_type": "code",
   "execution_count": null,
   "metadata": {},
   "outputs": [],
   "source": [
    "\n",
    "# b_s = SpinBasis(1//2)\n",
    "# σz = sigmaz(b_s)\n",
    "# σm = sigmam(b_s)\n",
    "# σp = sigmap(b_s)\n",
    "# γ = 1.0\n",
    "# nhf = 0.5\n",
    "# ncf = 0.1\n",
    "# ω = 1.0\n",
    "# H =  ω*σp*σm\n",
    "# J = √γ*[√(1-nhf)*σm, √(1-ncf)*σm, √nhf*σp, √ncf*σp]\n",
    "# # J = [√(γ*(1-nhf))*σm, √(γ*nhf)*σp]\n",
    "# mJ = [J[1], J[3]]\n",
    "# ρss = steadystate.eigenvector(H, J);\n",
    "\n",
    "# vss = vec(ρss.data)\n",
    "# vId = vec(one(b_s).data)'\n",
    "\n",
    "# # Let's make it recursive now!\n",
    "# # We always start by setting up the Drazin inverse, the vectorize jumpps:\n",
    "# Jop = m_jumps(mJ)\n",
    "# LD = drazin(H, J; rho_ss=ρss)\n",
    "# vρ0 = vss\n",
    "# # Then we compute the 1st vector and the 1st cumulant\n",
    "# vρ1 = Jop*vρ0\n",
    "# I1 =real(vId*vρ1)\n",
    "# # Then the 2nd vector and cumulant\n",
    "# I2 = real(vId*(m_jumps(mJ; n=2)*vρ0 - 2*m_jumps(mJ)*LD*vρ1))\n",
    "\n",
    "\n",
    "# println(I1)\n",
    "# println(I2)"
   ]
  },
  {
   "cell_type": "code",
   "execution_count": null,
   "metadata": {},
   "outputs": [],
   "source": [
    "K = fcscumulants_recursive(H, J, mJ, 2; rho_ss = ρss)\n",
    "K_apply = fcscumulants_recursive(H, J, mJ, 2; rho_ss = ρss, apply = :true)\n",
    "println(\"|_________Drazin________|\")\n",
    "println(K)\n",
    "println(\"|_______Drazin_apply_____|\")\n",
    "println(K_apply)"
   ]
  },
  {
   "cell_type": "markdown",
   "metadata": {},
   "source": [
    "# Bosonic QHE"
   ]
  },
  {
   "cell_type": "code",
   "execution_count": 23,
   "metadata": {},
   "outputs": [
    {
     "name": "stdout",
     "output_type": "stream",
     "text": [
      "|_________Drazin________|\n",
      "[0.03999979713674908, 0.30977274533929755]\n",
      "|_______Drazin_apply_____|\n",
      "[0.03999979713674908, 0.0428788250346096]\n",
      "Fano\n",
      "7.744357909622985\n",
      "|________Analytic________|\n",
      "[0.04 0.04288]\n",
      "Fano\n",
      "1.072\n"
     ]
    }
   ],
   "source": [
    "# Analytic expression I1 and I2  \n",
    "function I1_bosonic_check(κ, g, nh, nc)\n",
    "    2g^2*κ*(nh - nc)/(4g^2 + κ^2) \n",
    " end    \n",
    "     \n",
    " function I2_bosonic_check(κ, g, nh, nc)\n",
    "    #  nT = nh + nc\n",
    "    #  Δn = nh - nc\n",
    "    #  I2 = (nT^2 + 2nT)*g^2*κ/(4g^2 + κ^2) - Δn^2*g^2*κ^3*(20*g^2 + κ^2)/(4g^2 + κ^2)^3\n",
    "    mb = nc\n",
    "    nb = nh\n",
    "    I2 = (16*g^6*(mb + nb)*(2 + mb + nb)*κ + 4*g^4*(5*mb^2 - 2*mb*(nb-2) + nb*(4 + 5*nb))*κ^3 + 2*g^2*(mb + nb + 2*mb*nb)*κ^5)/(4*g^2 + κ^2)^3\n",
    "    return I2\n",
    " end\n",
    "\n",
    "\n",
    "b_fock = FockBasis(5)\n",
    "ah = destroy(b_fock)⊗one(b_fock)\n",
    "ahd = dagger(ah)\n",
    "ac = one(b_fock)⊗destroy(b_fock)\n",
    "acd = dagger(ac)\n",
    "\n",
    "g = 1.0\n",
    "κ = 1.0\n",
    "nbh = 0.1\n",
    "nbc = 0.0\n",
    "H =  g*(ahd*ac + acd*ah)\n",
    "J = [√(κ*(nbh+1))*ah, √(κ*(nbc+1))*ac, √(κ*nbh)*ahd, √(κ*nbc)*acd]\n",
    "mJ = [J[2], J[4]]\n",
    "ρss = steadystate.iterative(H, J);\n",
    "\n",
    "\n",
    "ncum = 2\n",
    " K_apply = fcscumulants_recursive(H, J, mJ, ncum, ρss; iterative=:false)\n",
    " K = fcscumulants_recursive(H, J, mJ, ncum, ρss)\n",
    "println(\"|_________Drazin________|\")\n",
    "println(K)\n",
    "println(\"|_______Drazin_apply_____|\")\n",
    "println(K_apply)\n",
    "println(\"Fano\")\n",
    "println(K[2]/K[1])\n",
    "I1_analytic = I1_bosonic_check(κ, g, nbh, nbc) \n",
    "I2_analytic = I2_bosonic_check(κ, g, nbh, nbc)\n",
    "println(\"|________Analytic________|\")\n",
    "println([I1_analytic I2_analytic])\n",
    "println(\"Fano\")\n",
    "println(I2_analytic/I1_analytic)\n"
   ]
  },
  {
   "cell_type": "code",
   "execution_count": 7,
   "metadata": {},
   "outputs": [
    {
     "data": {
      "text/plain": [
       "2-element Vector{Vector{ComplexF64}}:\n",
       " #undef\n",
       " #undef"
      ]
     },
     "metadata": {},
     "output_type": "display_data"
    }
   ],
   "source": [
    "Vector{Vector{ComplexF64}}(undef, 2)"
   ]
  },
  {
   "cell_type": "code",
   "execution_count": null,
   "metadata": {},
   "outputs": [],
   "source": [
    "grange = [0.01:0.01:5.01;]\n",
    "κ = 1.0\n",
    "nbh = 1.0\n",
    "nbc = 0.0\n",
    "I1dat = zeros(length(grange))\n",
    "I2dat = zeros(length(grange))\n",
    "I1check = zeros(length(grange))\n",
    "I2check = zeros(length(grange))\n",
    "for i=1:length(grange)\n",
    "    g = grange[i]\n",
    "    H =  g*(ahd*ac + acd*ah)\n",
    "    J = [√(κ*(nbh+1))*ah, √(κ*(nbc+1))*ac, √(κ*nbh)*ahd, √(κ*nbc)*acd]\n",
    "    mJ = [J[2], J[4]]\n",
    "    ρss = steadystate.iterative(H, J);\n",
    "    I1dat[i], I2dat[i] = fcscumulants_recursive(H, J, mJ, 2, ρss; apply = :true)\n",
    "    I1check[i] = I1_bosonic_check(κ, g, nbh, nbc)\n",
    "    I2check[i] = I2_bosonic_check(κ, g, nbh, nbc)\n",
    "end"
   ]
  },
  {
   "cell_type": "code",
   "execution_count": 8,
   "metadata": {},
   "outputs": [],
   "source": [
    "Fano = I2dat./I1dat\n",
    "Fanocheck = I2check./I1check\n",
    ";"
   ]
  },
  {
   "cell_type": "code",
   "execution_count": null,
   "metadata": {},
   "outputs": [],
   "source": [
    "plot(grange, [Fano, Fanocheck], lw = [6 3], alpha = [0.5 1.0], c =[:green :orange], label = [\"QuantumFCS\" \"Analytic\"] )\n",
    "plot!(xlabel =L\"g/\\kappa\", ylabel =\"Fano factor\")\n",
    "plot!(size = (800,800))"
   ]
  },
  {
   "cell_type": "code",
   "execution_count": null,
   "metadata": {},
   "outputs": [],
   "source": [
    " g0 = 0.0001\n",
    " I2_bosonic_check(κ, g0, nbh, nbc)/I1_bosonic_check(κ, g0, nbh, nbc)"
   ]
  },
  {
   "cell_type": "code",
   "execution_count": null,
   "metadata": {},
   "outputs": [],
   "source": []
  }
 ],
 "metadata": {
  "kernelspec": {
   "display_name": "Julia 1.10.1",
   "language": "julia",
   "name": "julia-1.10"
  },
  "language_info": {
   "file_extension": ".jl",
   "mimetype": "application/julia",
   "name": "julia",
   "version": "1.10.1"
  },
  "orig_nbformat": 4
 },
 "nbformat": 4,
 "nbformat_minor": 2
}
